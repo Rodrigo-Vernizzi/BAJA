{
 "cells": [
  {
   "cell_type": "markdown",
   "metadata": {},
   "source": [
    "## Lendo a tabela:"
   ]
  },
  {
   "cell_type": "code",
   "execution_count": 34,
   "metadata": {},
   "outputs": [
    {
     "data": {
      "text/html": [
       "<div>\n",
       "<style scoped>\n",
       "    .dataframe tbody tr th:only-of-type {\n",
       "        vertical-align: middle;\n",
       "    }\n",
       "\n",
       "    .dataframe tbody tr th {\n",
       "        vertical-align: top;\n",
       "    }\n",
       "\n",
       "    .dataframe thead th {\n",
       "        text-align: right;\n",
       "    }\n",
       "</style>\n",
       "<table border=\"1\" class=\"dataframe\">\n",
       "  <thead>\n",
       "    <tr style=\"text-align: right;\">\n",
       "      <th></th>\n",
       "      <th>time</th>\n",
       "      <th>handwheelAngle</th>\n",
       "      <th>throttle</th>\n",
       "      <th>brake</th>\n",
       "      <th>clutch</th>\n",
       "      <th>engineSpeed</th>\n",
       "      <th>PPS</th>\n",
       "      <th>gpsTime</th>\n",
       "      <th>latitude</th>\n",
       "      <th>longitude</th>\n",
       "      <th>...</th>\n",
       "      <th>chassisAccelRL</th>\n",
       "      <th>chassisAccelRR</th>\n",
       "      <th>deflectionFL</th>\n",
       "      <th>deflectionFR</th>\n",
       "      <th>deflectionRL</th>\n",
       "      <th>deflectionRR</th>\n",
       "      <th>wheelAccelFL</th>\n",
       "      <th>wheelAccelFR</th>\n",
       "      <th>wheelAccelRL</th>\n",
       "      <th>wheelAccelRR</th>\n",
       "    </tr>\n",
       "  </thead>\n",
       "  <tbody>\n",
       "    <tr>\n",
       "      <th>0</th>\n",
       "      <td>0.000</td>\n",
       "      <td>1.4</td>\n",
       "      <td>3.3</td>\n",
       "      <td>0.0</td>\n",
       "      <td>95.0</td>\n",
       "      <td>1662</td>\n",
       "      <td>4.97</td>\n",
       "      <td>52158.50</td>\n",
       "      <td>NaN</td>\n",
       "      <td>NaN</td>\n",
       "      <td>...</td>\n",
       "      <td>8.633</td>\n",
       "      <td>9.231</td>\n",
       "      <td>-0.000</td>\n",
       "      <td>-0.001</td>\n",
       "      <td>0.003</td>\n",
       "      <td>0.000</td>\n",
       "      <td>10.01</td>\n",
       "      <td>10.40</td>\n",
       "      <td>9.12</td>\n",
       "      <td>9.32</td>\n",
       "    </tr>\n",
       "    <tr>\n",
       "      <th>1</th>\n",
       "      <td>0.001</td>\n",
       "      <td>1.4</td>\n",
       "      <td>3.3</td>\n",
       "      <td>0.0</td>\n",
       "      <td>95.0</td>\n",
       "      <td>1662</td>\n",
       "      <td>4.95</td>\n",
       "      <td>52158.50</td>\n",
       "      <td>NaN</td>\n",
       "      <td>NaN</td>\n",
       "      <td>...</td>\n",
       "      <td>9.182</td>\n",
       "      <td>10.114</td>\n",
       "      <td>-0.000</td>\n",
       "      <td>-0.001</td>\n",
       "      <td>0.003</td>\n",
       "      <td>0.000</td>\n",
       "      <td>9.91</td>\n",
       "      <td>10.30</td>\n",
       "      <td>8.44</td>\n",
       "      <td>9.12</td>\n",
       "    </tr>\n",
       "    <tr>\n",
       "      <th>2</th>\n",
       "      <td>0.002</td>\n",
       "      <td>1.4</td>\n",
       "      <td>3.3</td>\n",
       "      <td>0.0</td>\n",
       "      <td>94.5</td>\n",
       "      <td>1662</td>\n",
       "      <td>4.96</td>\n",
       "      <td>52158.50</td>\n",
       "      <td>NaN</td>\n",
       "      <td>NaN</td>\n",
       "      <td>...</td>\n",
       "      <td>8.731</td>\n",
       "      <td>9.064</td>\n",
       "      <td>-0.000</td>\n",
       "      <td>-0.001</td>\n",
       "      <td>0.003</td>\n",
       "      <td>0.000</td>\n",
       "      <td>9.61</td>\n",
       "      <td>10.20</td>\n",
       "      <td>7.75</td>\n",
       "      <td>9.03</td>\n",
       "    </tr>\n",
       "    <tr>\n",
       "      <th>3</th>\n",
       "      <td>0.003</td>\n",
       "      <td>1.4</td>\n",
       "      <td>3.3</td>\n",
       "      <td>0.0</td>\n",
       "      <td>94.5</td>\n",
       "      <td>1662</td>\n",
       "      <td>4.97</td>\n",
       "      <td>52158.50</td>\n",
       "      <td>NaN</td>\n",
       "      <td>NaN</td>\n",
       "      <td>...</td>\n",
       "      <td>9.280</td>\n",
       "      <td>8.868</td>\n",
       "      <td>-0.000</td>\n",
       "      <td>-0.001</td>\n",
       "      <td>0.003</td>\n",
       "      <td>0.000</td>\n",
       "      <td>9.61</td>\n",
       "      <td>10.10</td>\n",
       "      <td>7.46</td>\n",
       "      <td>9.42</td>\n",
       "    </tr>\n",
       "    <tr>\n",
       "      <th>4</th>\n",
       "      <td>0.004</td>\n",
       "      <td>1.4</td>\n",
       "      <td>3.3</td>\n",
       "      <td>0.0</td>\n",
       "      <td>94.0</td>\n",
       "      <td>1662</td>\n",
       "      <td>4.97</td>\n",
       "      <td>52158.50</td>\n",
       "      <td>NaN</td>\n",
       "      <td>NaN</td>\n",
       "      <td>...</td>\n",
       "      <td>8.662</td>\n",
       "      <td>8.986</td>\n",
       "      <td>-0.000</td>\n",
       "      <td>-0.001</td>\n",
       "      <td>0.003</td>\n",
       "      <td>0.000</td>\n",
       "      <td>10.01</td>\n",
       "      <td>10.01</td>\n",
       "      <td>9.42</td>\n",
       "      <td>10.99</td>\n",
       "    </tr>\n",
       "    <tr>\n",
       "      <th>...</th>\n",
       "      <td>...</td>\n",
       "      <td>...</td>\n",
       "      <td>...</td>\n",
       "      <td>...</td>\n",
       "      <td>...</td>\n",
       "      <td>...</td>\n",
       "      <td>...</td>\n",
       "      <td>...</td>\n",
       "      <td>...</td>\n",
       "      <td>...</td>\n",
       "      <td>...</td>\n",
       "      <td>...</td>\n",
       "      <td>...</td>\n",
       "      <td>...</td>\n",
       "      <td>...</td>\n",
       "      <td>...</td>\n",
       "      <td>...</td>\n",
       "      <td>...</td>\n",
       "      <td>...</td>\n",
       "      <td>...</td>\n",
       "      <td>...</td>\n",
       "    </tr>\n",
       "    <tr>\n",
       "      <th>535463</th>\n",
       "      <td>535.463</td>\n",
       "      <td>-9.5</td>\n",
       "      <td>0.3</td>\n",
       "      <td>0.0</td>\n",
       "      <td>0.0</td>\n",
       "      <td>0</td>\n",
       "      <td>4.96</td>\n",
       "      <td>52693.98</td>\n",
       "      <td>26.921374</td>\n",
       "      <td>-80.305995</td>\n",
       "      <td>...</td>\n",
       "      <td>9.182</td>\n",
       "      <td>9.133</td>\n",
       "      <td>0.002</td>\n",
       "      <td>0.001</td>\n",
       "      <td>-0.003</td>\n",
       "      <td>0.004</td>\n",
       "      <td>10.40</td>\n",
       "      <td>9.91</td>\n",
       "      <td>8.24</td>\n",
       "      <td>8.14</td>\n",
       "    </tr>\n",
       "    <tr>\n",
       "      <th>535464</th>\n",
       "      <td>535.464</td>\n",
       "      <td>-9.5</td>\n",
       "      <td>0.2</td>\n",
       "      <td>0.0</td>\n",
       "      <td>0.0</td>\n",
       "      <td>0</td>\n",
       "      <td>4.97</td>\n",
       "      <td>52693.98</td>\n",
       "      <td>26.921374</td>\n",
       "      <td>-80.305995</td>\n",
       "      <td>...</td>\n",
       "      <td>9.212</td>\n",
       "      <td>9.153</td>\n",
       "      <td>0.002</td>\n",
       "      <td>0.001</td>\n",
       "      <td>-0.003</td>\n",
       "      <td>0.004</td>\n",
       "      <td>10.20</td>\n",
       "      <td>9.81</td>\n",
       "      <td>8.14</td>\n",
       "      <td>8.14</td>\n",
       "    </tr>\n",
       "    <tr>\n",
       "      <th>535465</th>\n",
       "      <td>535.465</td>\n",
       "      <td>-9.5</td>\n",
       "      <td>0.2</td>\n",
       "      <td>0.0</td>\n",
       "      <td>0.0</td>\n",
       "      <td>0</td>\n",
       "      <td>4.96</td>\n",
       "      <td>52693.98</td>\n",
       "      <td>26.921374</td>\n",
       "      <td>-80.305995</td>\n",
       "      <td>...</td>\n",
       "      <td>9.182</td>\n",
       "      <td>9.182</td>\n",
       "      <td>0.002</td>\n",
       "      <td>0.001</td>\n",
       "      <td>-0.003</td>\n",
       "      <td>0.004</td>\n",
       "      <td>10.20</td>\n",
       "      <td>9.71</td>\n",
       "      <td>8.04</td>\n",
       "      <td>8.04</td>\n",
       "    </tr>\n",
       "    <tr>\n",
       "      <th>535466</th>\n",
       "      <td>535.466</td>\n",
       "      <td>-9.5</td>\n",
       "      <td>0.3</td>\n",
       "      <td>0.0</td>\n",
       "      <td>0.0</td>\n",
       "      <td>0</td>\n",
       "      <td>4.96</td>\n",
       "      <td>52693.98</td>\n",
       "      <td>26.921374</td>\n",
       "      <td>-80.305995</td>\n",
       "      <td>...</td>\n",
       "      <td>9.182</td>\n",
       "      <td>9.182</td>\n",
       "      <td>0.002</td>\n",
       "      <td>0.001</td>\n",
       "      <td>-0.003</td>\n",
       "      <td>0.004</td>\n",
       "      <td>10.20</td>\n",
       "      <td>9.81</td>\n",
       "      <td>8.04</td>\n",
       "      <td>8.04</td>\n",
       "    </tr>\n",
       "    <tr>\n",
       "      <th>535467</th>\n",
       "      <td>535.467</td>\n",
       "      <td>-9.5</td>\n",
       "      <td>0.2</td>\n",
       "      <td>0.0</td>\n",
       "      <td>0.0</td>\n",
       "      <td>0</td>\n",
       "      <td>4.97</td>\n",
       "      <td>52693.98</td>\n",
       "      <td>26.921374</td>\n",
       "      <td>-80.305995</td>\n",
       "      <td>...</td>\n",
       "      <td>9.182</td>\n",
       "      <td>9.182</td>\n",
       "      <td>0.002</td>\n",
       "      <td>0.001</td>\n",
       "      <td>-0.003</td>\n",
       "      <td>0.004</td>\n",
       "      <td>10.40</td>\n",
       "      <td>9.81</td>\n",
       "      <td>8.14</td>\n",
       "      <td>7.95</td>\n",
       "    </tr>\n",
       "  </tbody>\n",
       "</table>\n",
       "<p>535468 rows × 56 columns</p>\n",
       "</div>"
      ],
      "text/plain": [
       "           time  handwheelAngle  throttle  brake  clutch  engineSpeed   PPS  \\\n",
       "0         0.000             1.4       3.3    0.0    95.0         1662  4.97   \n",
       "1         0.001             1.4       3.3    0.0    95.0         1662  4.95   \n",
       "2         0.002             1.4       3.3    0.0    94.5         1662  4.96   \n",
       "3         0.003             1.4       3.3    0.0    94.5         1662  4.97   \n",
       "4         0.004             1.4       3.3    0.0    94.0         1662  4.97   \n",
       "...         ...             ...       ...    ...     ...          ...   ...   \n",
       "535463  535.463            -9.5       0.3    0.0     0.0            0  4.96   \n",
       "535464  535.464            -9.5       0.2    0.0     0.0            0  4.97   \n",
       "535465  535.465            -9.5       0.2    0.0     0.0            0  4.96   \n",
       "535466  535.466            -9.5       0.3    0.0     0.0            0  4.96   \n",
       "535467  535.467            -9.5       0.2    0.0     0.0            0  4.97   \n",
       "\n",
       "         gpsTime   latitude  longitude  ...  chassisAccelRL  chassisAccelRR  \\\n",
       "0       52158.50        NaN        NaN  ...           8.633           9.231   \n",
       "1       52158.50        NaN        NaN  ...           9.182          10.114   \n",
       "2       52158.50        NaN        NaN  ...           8.731           9.064   \n",
       "3       52158.50        NaN        NaN  ...           9.280           8.868   \n",
       "4       52158.50        NaN        NaN  ...           8.662           8.986   \n",
       "...          ...        ...        ...  ...             ...             ...   \n",
       "535463  52693.98  26.921374 -80.305995  ...           9.182           9.133   \n",
       "535464  52693.98  26.921374 -80.305995  ...           9.212           9.153   \n",
       "535465  52693.98  26.921374 -80.305995  ...           9.182           9.182   \n",
       "535466  52693.98  26.921374 -80.305995  ...           9.182           9.182   \n",
       "535467  52693.98  26.921374 -80.305995  ...           9.182           9.182   \n",
       "\n",
       "        deflectionFL  deflectionFR  deflectionRL  deflectionRR  wheelAccelFL  \\\n",
       "0             -0.000        -0.001         0.003         0.000         10.01   \n",
       "1             -0.000        -0.001         0.003         0.000          9.91   \n",
       "2             -0.000        -0.001         0.003         0.000          9.61   \n",
       "3             -0.000        -0.001         0.003         0.000          9.61   \n",
       "4             -0.000        -0.001         0.003         0.000         10.01   \n",
       "...              ...           ...           ...           ...           ...   \n",
       "535463         0.002         0.001        -0.003         0.004         10.40   \n",
       "535464         0.002         0.001        -0.003         0.004         10.20   \n",
       "535465         0.002         0.001        -0.003         0.004         10.20   \n",
       "535466         0.002         0.001        -0.003         0.004         10.20   \n",
       "535467         0.002         0.001        -0.003         0.004         10.40   \n",
       "\n",
       "        wheelAccelFR  wheelAccelRL  wheelAccelRR  \n",
       "0              10.40          9.12          9.32  \n",
       "1              10.30          8.44          9.12  \n",
       "2              10.20          7.75          9.03  \n",
       "3              10.10          7.46          9.42  \n",
       "4              10.01          9.42         10.99  \n",
       "...              ...           ...           ...  \n",
       "535463          9.91          8.24          8.14  \n",
       "535464          9.81          8.14          8.14  \n",
       "535465          9.71          8.04          8.04  \n",
       "535466          9.81          8.04          8.04  \n",
       "535467          9.81          8.14          7.95  \n",
       "\n",
       "[535468 rows x 56 columns]"
      ]
     },
     "execution_count": 34,
     "metadata": {},
     "output_type": "execute_result"
    }
   ],
   "source": [
    "import pandas as pd\n",
    "df = pd.read_csv('20140221_01_01_03_250lm(notas).csv')\n",
    "df"
   ]
  },
  {
   "cell_type": "code",
   "execution_count": 3,
   "metadata": {},
   "outputs": [
    {
     "data": {
      "text/html": [
       "<div>\n",
       "<style scoped>\n",
       "    .dataframe tbody tr th:only-of-type {\n",
       "        vertical-align: middle;\n",
       "    }\n",
       "\n",
       "    .dataframe tbody tr th {\n",
       "        vertical-align: top;\n",
       "    }\n",
       "\n",
       "    .dataframe thead th {\n",
       "        text-align: right;\n",
       "    }\n",
       "</style>\n",
       "<table border=\"1\" class=\"dataframe\">\n",
       "  <thead>\n",
       "    <tr style=\"text-align: right;\">\n",
       "      <th></th>\n",
       "      <th>time</th>\n",
       "      <th>handwheelAngle</th>\n",
       "      <th>throttle</th>\n",
       "      <th>brake</th>\n",
       "      <th>clutch</th>\n",
       "      <th>engineSpeed</th>\n",
       "      <th>PPS</th>\n",
       "      <th>gpsTime</th>\n",
       "      <th>latitude</th>\n",
       "      <th>longitude</th>\n",
       "      <th>...</th>\n",
       "      <th>chassisAccelRL</th>\n",
       "      <th>chassisAccelRR</th>\n",
       "      <th>deflectionFL</th>\n",
       "      <th>deflectionFR</th>\n",
       "      <th>deflectionRL</th>\n",
       "      <th>deflectionRR</th>\n",
       "      <th>wheelAccelFL</th>\n",
       "      <th>wheelAccelFR</th>\n",
       "      <th>wheelAccelRL</th>\n",
       "      <th>wheelAccelRR</th>\n",
       "    </tr>\n",
       "  </thead>\n",
       "  <tbody>\n",
       "    <tr>\n",
       "      <th>0</th>\n",
       "      <td>0.000</td>\n",
       "      <td>1.4</td>\n",
       "      <td>3.3</td>\n",
       "      <td>0.0</td>\n",
       "      <td>95.0</td>\n",
       "      <td>1662</td>\n",
       "      <td>4.97</td>\n",
       "      <td>52158.5</td>\n",
       "      <td>NaN</td>\n",
       "      <td>NaN</td>\n",
       "      <td>...</td>\n",
       "      <td>8.633</td>\n",
       "      <td>9.231</td>\n",
       "      <td>-0.0</td>\n",
       "      <td>-0.001</td>\n",
       "      <td>0.003</td>\n",
       "      <td>0.0</td>\n",
       "      <td>10.01</td>\n",
       "      <td>10.40</td>\n",
       "      <td>9.12</td>\n",
       "      <td>9.32</td>\n",
       "    </tr>\n",
       "    <tr>\n",
       "      <th>1</th>\n",
       "      <td>0.001</td>\n",
       "      <td>1.4</td>\n",
       "      <td>3.3</td>\n",
       "      <td>0.0</td>\n",
       "      <td>95.0</td>\n",
       "      <td>1662</td>\n",
       "      <td>4.95</td>\n",
       "      <td>52158.5</td>\n",
       "      <td>NaN</td>\n",
       "      <td>NaN</td>\n",
       "      <td>...</td>\n",
       "      <td>9.182</td>\n",
       "      <td>10.114</td>\n",
       "      <td>-0.0</td>\n",
       "      <td>-0.001</td>\n",
       "      <td>0.003</td>\n",
       "      <td>0.0</td>\n",
       "      <td>9.91</td>\n",
       "      <td>10.30</td>\n",
       "      <td>8.44</td>\n",
       "      <td>9.12</td>\n",
       "    </tr>\n",
       "    <tr>\n",
       "      <th>2</th>\n",
       "      <td>0.002</td>\n",
       "      <td>1.4</td>\n",
       "      <td>3.3</td>\n",
       "      <td>0.0</td>\n",
       "      <td>94.5</td>\n",
       "      <td>1662</td>\n",
       "      <td>4.96</td>\n",
       "      <td>52158.5</td>\n",
       "      <td>NaN</td>\n",
       "      <td>NaN</td>\n",
       "      <td>...</td>\n",
       "      <td>8.731</td>\n",
       "      <td>9.064</td>\n",
       "      <td>-0.0</td>\n",
       "      <td>-0.001</td>\n",
       "      <td>0.003</td>\n",
       "      <td>0.0</td>\n",
       "      <td>9.61</td>\n",
       "      <td>10.20</td>\n",
       "      <td>7.75</td>\n",
       "      <td>9.03</td>\n",
       "    </tr>\n",
       "    <tr>\n",
       "      <th>3</th>\n",
       "      <td>0.003</td>\n",
       "      <td>1.4</td>\n",
       "      <td>3.3</td>\n",
       "      <td>0.0</td>\n",
       "      <td>94.5</td>\n",
       "      <td>1662</td>\n",
       "      <td>4.97</td>\n",
       "      <td>52158.5</td>\n",
       "      <td>NaN</td>\n",
       "      <td>NaN</td>\n",
       "      <td>...</td>\n",
       "      <td>9.280</td>\n",
       "      <td>8.868</td>\n",
       "      <td>-0.0</td>\n",
       "      <td>-0.001</td>\n",
       "      <td>0.003</td>\n",
       "      <td>0.0</td>\n",
       "      <td>9.61</td>\n",
       "      <td>10.10</td>\n",
       "      <td>7.46</td>\n",
       "      <td>9.42</td>\n",
       "    </tr>\n",
       "    <tr>\n",
       "      <th>4</th>\n",
       "      <td>0.004</td>\n",
       "      <td>1.4</td>\n",
       "      <td>3.3</td>\n",
       "      <td>0.0</td>\n",
       "      <td>94.0</td>\n",
       "      <td>1662</td>\n",
       "      <td>4.97</td>\n",
       "      <td>52158.5</td>\n",
       "      <td>NaN</td>\n",
       "      <td>NaN</td>\n",
       "      <td>...</td>\n",
       "      <td>8.662</td>\n",
       "      <td>8.986</td>\n",
       "      <td>-0.0</td>\n",
       "      <td>-0.001</td>\n",
       "      <td>0.003</td>\n",
       "      <td>0.0</td>\n",
       "      <td>10.01</td>\n",
       "      <td>10.01</td>\n",
       "      <td>9.42</td>\n",
       "      <td>10.99</td>\n",
       "    </tr>\n",
       "  </tbody>\n",
       "</table>\n",
       "<p>5 rows × 56 columns</p>\n",
       "</div>"
      ],
      "text/plain": [
       "    time  handwheelAngle  throttle  brake  clutch  engineSpeed   PPS  gpsTime  \\\n",
       "0  0.000             1.4       3.3    0.0    95.0         1662  4.97  52158.5   \n",
       "1  0.001             1.4       3.3    0.0    95.0         1662  4.95  52158.5   \n",
       "2  0.002             1.4       3.3    0.0    94.5         1662  4.96  52158.5   \n",
       "3  0.003             1.4       3.3    0.0    94.5         1662  4.97  52158.5   \n",
       "4  0.004             1.4       3.3    0.0    94.0         1662  4.97  52158.5   \n",
       "\n",
       "   latitude  longitude  ...  chassisAccelRL  chassisAccelRR  deflectionFL  \\\n",
       "0       NaN        NaN  ...           8.633           9.231          -0.0   \n",
       "1       NaN        NaN  ...           9.182          10.114          -0.0   \n",
       "2       NaN        NaN  ...           8.731           9.064          -0.0   \n",
       "3       NaN        NaN  ...           9.280           8.868          -0.0   \n",
       "4       NaN        NaN  ...           8.662           8.986          -0.0   \n",
       "\n",
       "   deflectionFR  deflectionRL  deflectionRR  wheelAccelFL  wheelAccelFR  \\\n",
       "0        -0.001         0.003           0.0         10.01         10.40   \n",
       "1        -0.001         0.003           0.0          9.91         10.30   \n",
       "2        -0.001         0.003           0.0          9.61         10.20   \n",
       "3        -0.001         0.003           0.0          9.61         10.10   \n",
       "4        -0.001         0.003           0.0         10.01         10.01   \n",
       "\n",
       "   wheelAccelRL  wheelAccelRR  \n",
       "0          9.12          9.32  \n",
       "1          8.44          9.12  \n",
       "2          7.75          9.03  \n",
       "3          7.46          9.42  \n",
       "4          9.42         10.99  \n",
       "\n",
       "[5 rows x 56 columns]"
      ]
     },
     "execution_count": 3,
     "metadata": {},
     "output_type": "execute_result"
    }
   ],
   "source": [
    "df.head()"
   ]
  },
  {
   "cell_type": "code",
   "execution_count": 4,
   "metadata": {},
   "outputs": [
    {
     "name": "stdout",
     "output_type": "stream",
     "text": [
      "<class 'pandas.core.frame.DataFrame'>\n",
      "RangeIndex: 535468 entries, 0 to 535467\n",
      "Data columns (total 56 columns):\n",
      " #   Column                  Non-Null Count   Dtype  \n",
      "---  ------                  --------------   -----  \n",
      " 0   time                    535468 non-null  float64\n",
      " 1   handwheelAngle          535468 non-null  float64\n",
      " 2   throttle                535468 non-null  float64\n",
      " 3   brake                   535468 non-null  float64\n",
      " 4   clutch                  535468 non-null  float64\n",
      " 5   engineSpeed             535468 non-null  int64  \n",
      " 6   PPS                     535468 non-null  float64\n",
      " 7   gpsTime                 535468 non-null  float64\n",
      " 8   latitude                490958 non-null  float64\n",
      " 9   longitude               490958 non-null  float64\n",
      " 10  altitude                490958 non-null  float64\n",
      " 11  vNorth                  535468 non-null  float64\n",
      " 12  vEast                   535468 non-null  float64\n",
      " 13  vUp                     535468 non-null  float64\n",
      " 14  horizontalSpeed         535468 non-null  float64\n",
      " 15  vxCG                    535468 non-null  float64\n",
      " 16  vyCG                    535468 non-null  float64\n",
      " 17  vzCG                    535468 non-null  float64\n",
      " 18  axCG                    535468 non-null  float64\n",
      " 19  ayCG                    535468 non-null  float64\n",
      " 20  azCG                    535468 non-null  float64\n",
      " 21  yawAngle                535468 non-null  float64\n",
      " 22  pitchAngle              535468 non-null  float64\n",
      " 23  rollAngle               535468 non-null  float64\n",
      " 24  rollRate                535468 non-null  float64\n",
      " 25  pitchRate               535468 non-null  float64\n",
      " 26  yawRate                 535468 non-null  float64\n",
      " 27  sideSlip                535468 non-null  float64\n",
      " 28  distance                535468 non-null  float64\n",
      " 29  numSVsTracked           535468 non-null  int64  \n",
      " 30  gpsPosMode              535468 non-null  int64  \n",
      " 31  gpsVelMode              535468 non-null  int64  \n",
      " 32  gpsOrientMode           535468 non-null  int64  \n",
      " 33  HDOP                    535468 non-null  float64\n",
      " 34  PDOP                    535468 non-null  float64\n",
      " 35  posAccuracy_north       535468 non-null  float64\n",
      " 36  posAccuracy_east        535468 non-null  float64\n",
      " 37  posAccuracy_down        535468 non-null  float64\n",
      " 38  velAccuracy_north       535468 non-null  float64\n",
      " 39  velAccuracy_east        535468 non-null  float64\n",
      " 40  velAccuracy_down        535468 non-null  float64\n",
      " 41  orientAccuracy_heading  535468 non-null  float64\n",
      " 42  orientAccuracy_pitch    535468 non-null  float64\n",
      " 43  orientAccuracy_roll     535468 non-null  float64\n",
      " 44  chassisAccelFL          535468 non-null  float64\n",
      " 45  chassisAccelFR          535468 non-null  float64\n",
      " 46  chassisAccelRL          535468 non-null  float64\n",
      " 47  chassisAccelRR          535468 non-null  float64\n",
      " 48  deflectionFL            535468 non-null  float64\n",
      " 49  deflectionFR            535468 non-null  float64\n",
      " 50  deflectionRL            535468 non-null  float64\n",
      " 51  deflectionRR            535468 non-null  float64\n",
      " 52  wheelAccelFL            535468 non-null  float64\n",
      " 53  wheelAccelFR            535468 non-null  float64\n",
      " 54  wheelAccelRL            535468 non-null  float64\n",
      " 55  wheelAccelRR            535468 non-null  float64\n",
      "dtypes: float64(51), int64(5)\n",
      "memory usage: 228.8 MB\n"
     ]
    }
   ],
   "source": [
    "df.info()"
   ]
  },
  {
   "cell_type": "code",
   "execution_count": 5,
   "metadata": {},
   "outputs": [
    {
     "data": {
      "text/html": [
       "<div>\n",
       "<style scoped>\n",
       "    .dataframe tbody tr th:only-of-type {\n",
       "        vertical-align: middle;\n",
       "    }\n",
       "\n",
       "    .dataframe tbody tr th {\n",
       "        vertical-align: top;\n",
       "    }\n",
       "\n",
       "    .dataframe thead th {\n",
       "        text-align: right;\n",
       "    }\n",
       "</style>\n",
       "<table border=\"1\" class=\"dataframe\">\n",
       "  <thead>\n",
       "    <tr style=\"text-align: right;\">\n",
       "      <th></th>\n",
       "      <th>time</th>\n",
       "      <th>brake</th>\n",
       "    </tr>\n",
       "  </thead>\n",
       "  <tbody>\n",
       "    <tr>\n",
       "      <th>73086</th>\n",
       "      <td>73.086</td>\n",
       "      <td>5.6</td>\n",
       "    </tr>\n",
       "    <tr>\n",
       "      <th>73087</th>\n",
       "      <td>73.087</td>\n",
       "      <td>5.6</td>\n",
       "    </tr>\n",
       "    <tr>\n",
       "      <th>73088</th>\n",
       "      <td>73.088</td>\n",
       "      <td>5.6</td>\n",
       "    </tr>\n",
       "    <tr>\n",
       "      <th>73089</th>\n",
       "      <td>73.089</td>\n",
       "      <td>5.6</td>\n",
       "    </tr>\n",
       "    <tr>\n",
       "      <th>73090</th>\n",
       "      <td>73.090</td>\n",
       "      <td>5.6</td>\n",
       "    </tr>\n",
       "    <tr>\n",
       "      <th>...</th>\n",
       "      <td>...</td>\n",
       "      <td>...</td>\n",
       "    </tr>\n",
       "    <tr>\n",
       "      <th>319865</th>\n",
       "      <td>319.865</td>\n",
       "      <td>5.6</td>\n",
       "    </tr>\n",
       "    <tr>\n",
       "      <th>319866</th>\n",
       "      <td>319.866</td>\n",
       "      <td>5.6</td>\n",
       "    </tr>\n",
       "    <tr>\n",
       "      <th>319867</th>\n",
       "      <td>319.867</td>\n",
       "      <td>5.6</td>\n",
       "    </tr>\n",
       "    <tr>\n",
       "      <th>319868</th>\n",
       "      <td>319.868</td>\n",
       "      <td>5.6</td>\n",
       "    </tr>\n",
       "    <tr>\n",
       "      <th>319869</th>\n",
       "      <td>319.869</td>\n",
       "      <td>5.6</td>\n",
       "    </tr>\n",
       "  </tbody>\n",
       "</table>\n",
       "<p>10711 rows × 2 columns</p>\n",
       "</div>"
      ],
      "text/plain": [
       "           time  brake\n",
       "73086    73.086    5.6\n",
       "73087    73.087    5.6\n",
       "73088    73.088    5.6\n",
       "73089    73.089    5.6\n",
       "73090    73.090    5.6\n",
       "...         ...    ...\n",
       "319865  319.865    5.6\n",
       "319866  319.866    5.6\n",
       "319867  319.867    5.6\n",
       "319868  319.868    5.6\n",
       "319869  319.869    5.6\n",
       "\n",
       "[10711 rows x 2 columns]"
      ]
     },
     "execution_count": 5,
     "metadata": {},
     "output_type": "execute_result"
    }
   ],
   "source": [
    "df.loc[df['brake']>0,['time','brake']]"
   ]
  },
  {
   "cell_type": "code",
   "execution_count": 6,
   "metadata": {},
   "outputs": [
    {
     "data": {
      "text/plain": [
       "time     317.426\n",
       "brake    100.000\n",
       "dtype: float64"
      ]
     },
     "execution_count": 6,
     "metadata": {},
     "output_type": "execute_result"
    }
   ],
   "source": [
    "df.loc[df['brake']>16.8,['time','brake']]\n",
    "df.loc[df['brake']>16.8,['time','brake']].max()"
   ]
  },
  {
   "cell_type": "markdown",
   "metadata": {},
   "source": [
    "### Usando o resultado do dataframe \"20140221_01_01_03_250lm(notas).csv\", vamos achar um valor aproximado do tempo que o carro chega nas coordenadas do começo da pista(o gráfico foi usado para conferir):\n",
    "Resultado no arquivo \"laps(arquivo1).xlsx\".\n",
    "Obs: a diferença no número de dados obtidos na tabela vai variar caso for usado o comando \".drop_duplicates()\"."
   ]
  },
  {
   "cell_type": "code",
   "execution_count": 7,
   "metadata": {},
   "outputs": [],
   "source": [
    "tabel = df.loc[(df['longitude']>-80.306000) & (df['longitude']<-80.30590) & (df['latitude']>26.923680) & (df['latitude']<26.923690) , ['time','distance']]\n",
    "tabel.to_excel('laps(arquivo1).xlsx',index=False)"
   ]
  },
  {
   "cell_type": "markdown",
   "metadata": {},
   "source": [
    "## Conferindo formato da pista:"
   ]
  },
  {
   "cell_type": "code",
   "execution_count": 8,
   "metadata": {},
   "outputs": [
    {
     "data": {
      "image/png": "[encoded data removed]",
      "text/plain": [
       "<Figure size 432x288 with 1 Axes>"
      ]
     },
     "metadata": {
      "needs_background": "light"
     },
     "output_type": "display_data"
    }
   ],
   "source": [
    "import matplotlib.pyplot as plt\n",
    "\n",
    "plt.scatter(x = df['latitude'], y = df['longitude'],alpha=.55, s=1,color='black')\n",
    "'''for x in range(0,200,20):\n",
    "    plt.scatter(x=df.loc[df['time']==x,'latitude'],y=df.loc[df['time']==x,'longitude'], color=\"yellow\")'''\n",
    "\n",
    "#plt.scatter(x=df.loc[df['time']==64.06,'latitude'],y=df.loc[df['time']==64.06,'longitude'], color=\"red\")\n",
    "plt.scatter(x=df.loc[df['time']==198.97,'latitude'],y=df.loc[df['time']==198.97,'longitude'], color=\"blue\")\n",
    "\n",
    "plt.show()"
   ]
  },
  {
   "cell_type": "code",
   "execution_count": 9,
   "metadata": {},
   "outputs": [
    {
     "data": {
      "image/png": "[encoded data removed]",
      "text/plain": [
       "<Figure size 432x288 with 1 Axes>"
      ]
     },
     "metadata": {
      "needs_background": "light"
     },
     "output_type": "display_data"
    }
   ],
   "source": [
    "import matplotlib.pyplot as plt\n",
    "\n",
    "plt.scatter(x = df['latitude'], y = df['longitude'],alpha=.55, s=1,color='black')\n",
    "'''for x in range(0,200,20):\n",
    "    plt.scatter(x=df.loc[df['time']==x,'latitude'],y=df.loc[df['time']==x,'longitude'], color=\"yellow\")'''\n",
    "\n",
    "plt.scatter(x=df.loc[df['brake']>0,'latitude'],y=df.loc[df['brake']>0,'longitude'],c=df.loc[df['brake']>0,'brake'])\n",
    "#plt.scatter(x=df.loc[df['time']==317.426,'latitude'],y=df.loc[df['time']==317.426,'longitude'], color=\"red\")\n",
    "#plt.scatter(x=df.loc[df['brake']==16.7,'latitude'],y=df.loc[df['brake']==16.7,'longitude'],color= 'red')\n",
    "\n",
    "plt.show()"
   ]
  },
  {
   "cell_type": "code",
   "execution_count": 10,
   "metadata": {},
   "outputs": [
    {
     "data": {
      "text/plain": [
       "'color = df.handwheelAngle\\nfig, ax = plt.subplots(sharex=True, sharey=True, figsize=(12, 6.75))\\n\\n# Finally, we create a color bar as a legend.\\ncbaxes = fig.add_axes([0.25, 0.05, 0.5, 0.05])\\nnormlegend = mpl.colors.Normalize(vmin=color.min(), vmax=color.max())\\nlegend = mpl.colorbar.ColorbarBase(cbaxes, norm=normlegend, cmap=colormap, orientation=\"horizontal\")'"
      ]
     },
     "execution_count": 10,
     "metadata": {},
     "output_type": "execute_result"
    },
    {
     "data": {
      "image/png": "[encoded data removed]",
      "text/plain": [
       "<Figure size 432x288 with 1 Axes>"
      ]
     },
     "metadata": {
      "needs_background": "light"
     },
     "output_type": "display_data"
    }
   ],
   "source": [
    "import matplotlib.pyplot as plt\n",
    "import matplotlib as mpl\n",
    "from matplotlib.collections import LineCollection\n",
    "colormap = mpl.cm.plasma\n",
    "import numpy as np\n",
    "\n",
    "plt.scatter(x = df['latitude'], y = df['longitude'],alpha=.55, s=1,c=df.handwheelAngle,cmap=colormap)\n",
    "'''for x in range(0,200,20):\n",
    "    plt.scatter(x=df.loc[df['time']==x,'latitude'],y=df.loc[df['time']==x,'longitude'], color=\"yellow\")'''\n",
    "\n",
    "#plt.scatter(x=df.loc[df.handwheelAngle,'latitude'],y=df.loc[df.handwheelAngle,'longitude'],c=df.handwheelAngle)\n",
    "#plt.scatter(x=df.loc[df['time']==317.426,'latitude'],y=df.loc[df['time']==317.426,'longitude'], color=\"red\")\n",
    "#plt.scatter(x=df.loc[df['brake']==16.7,'latitude'],y=df.loc[df['brake']==16.7,'longitude'],color= 'red')\n",
    "\n",
    "'''color = df.handwheelAngle\n",
    "fig, ax = plt.subplots(sharex=True, sharey=True, figsize=(12, 6.75))\n",
    "\n",
    "# Finally, we create a color bar as a legend.\n",
    "cbaxes = fig.add_axes([0.25, 0.05, 0.5, 0.05])\n",
    "normlegend = mpl.colors.Normalize(vmin=color.min(), vmax=color.max())\n",
    "legend = mpl.colorbar.ColorbarBase(cbaxes, norm=normlegend, cmap=colormap, orientation=\"horizontal\")'''"
   ]
  },
  {
   "cell_type": "code",
   "execution_count": 11,
   "metadata": {},
   "outputs": [
    {
     "data": {
      "text/plain": [
       "<matplotlib.collections.PathCollection at 0x18506d58d60>"
      ]
     },
     "execution_count": 11,
     "metadata": {},
     "output_type": "execute_result"
    },
    {
     "data": {
      "image/png": "[encoded data removed]",
      "text/plain": [
       "<Figure size 432x288 with 1 Axes>"
      ]
     },
     "metadata": {
      "needs_background": "light"
     },
     "output_type": "display_data"
    }
   ],
   "source": [
    "import matplotlib.pyplot as plt\n",
    "\n",
    "'''df = df.drop(df[df.time<53.60].index,axis=0)\n",
    "df = df.drop(df[df.time>561.67].index,axis=0)'''\n",
    "\n",
    "plt.scatter(x = df.loc[(df.time<198.97)&(df.time>64.06),'latitude'], y = df.loc[(df.time<198.97)&(df.time>64.06),'longitude'],alpha=.55, s=1,color='black')"
   ]
  },
  {
   "cell_type": "code",
   "execution_count": 12,
   "metadata": {},
   "outputs": [
    {
     "data": {
      "text/html": [
       "<div>\n",
       "<style scoped>\n",
       "    .dataframe tbody tr th:only-of-type {\n",
       "        vertical-align: middle;\n",
       "    }\n",
       "\n",
       "    .dataframe tbody tr th {\n",
       "        vertical-align: top;\n",
       "    }\n",
       "\n",
       "    .dataframe thead th {\n",
       "        text-align: right;\n",
       "    }\n",
       "</style>\n",
       "<table border=\"1\" class=\"dataframe\">\n",
       "  <thead>\n",
       "    <tr style=\"text-align: right;\">\n",
       "      <th></th>\n",
       "      <th>time</th>\n",
       "      <th>handwheelAngle</th>\n",
       "      <th>throttle</th>\n",
       "      <th>brake</th>\n",
       "      <th>clutch</th>\n",
       "      <th>engineSpeed</th>\n",
       "      <th>PPS</th>\n",
       "      <th>gpsTime</th>\n",
       "      <th>latitude</th>\n",
       "      <th>longitude</th>\n",
       "      <th>...</th>\n",
       "      <th>chassisAccelRL</th>\n",
       "      <th>chassisAccelRR</th>\n",
       "      <th>deflectionFL</th>\n",
       "      <th>deflectionFR</th>\n",
       "      <th>deflectionRL</th>\n",
       "      <th>deflectionRR</th>\n",
       "      <th>wheelAccelFL</th>\n",
       "      <th>wheelAccelFR</th>\n",
       "      <th>wheelAccelRL</th>\n",
       "      <th>wheelAccelRR</th>\n",
       "    </tr>\n",
       "  </thead>\n",
       "  <tbody>\n",
       "    <tr>\n",
       "      <th>0</th>\n",
       "      <td>0.000</td>\n",
       "      <td>1.4</td>\n",
       "      <td>3.3</td>\n",
       "      <td>0.0</td>\n",
       "      <td>95.0</td>\n",
       "      <td>1662</td>\n",
       "      <td>4.97</td>\n",
       "      <td>52158.50</td>\n",
       "      <td>NaN</td>\n",
       "      <td>NaN</td>\n",
       "      <td>...</td>\n",
       "      <td>8.633</td>\n",
       "      <td>9.231</td>\n",
       "      <td>-0.000</td>\n",
       "      <td>-0.001</td>\n",
       "      <td>0.003</td>\n",
       "      <td>0.000</td>\n",
       "      <td>10.01</td>\n",
       "      <td>10.40</td>\n",
       "      <td>9.12</td>\n",
       "      <td>9.32</td>\n",
       "    </tr>\n",
       "    <tr>\n",
       "      <th>1</th>\n",
       "      <td>0.001</td>\n",
       "      <td>1.4</td>\n",
       "      <td>3.3</td>\n",
       "      <td>0.0</td>\n",
       "      <td>95.0</td>\n",
       "      <td>1662</td>\n",
       "      <td>4.95</td>\n",
       "      <td>52158.50</td>\n",
       "      <td>NaN</td>\n",
       "      <td>NaN</td>\n",
       "      <td>...</td>\n",
       "      <td>9.182</td>\n",
       "      <td>10.114</td>\n",
       "      <td>-0.000</td>\n",
       "      <td>-0.001</td>\n",
       "      <td>0.003</td>\n",
       "      <td>0.000</td>\n",
       "      <td>9.91</td>\n",
       "      <td>10.30</td>\n",
       "      <td>8.44</td>\n",
       "      <td>9.12</td>\n",
       "    </tr>\n",
       "    <tr>\n",
       "      <th>2</th>\n",
       "      <td>0.002</td>\n",
       "      <td>1.4</td>\n",
       "      <td>3.3</td>\n",
       "      <td>0.0</td>\n",
       "      <td>94.5</td>\n",
       "      <td>1662</td>\n",
       "      <td>4.96</td>\n",
       "      <td>52158.50</td>\n",
       "      <td>NaN</td>\n",
       "      <td>NaN</td>\n",
       "      <td>...</td>\n",
       "      <td>8.731</td>\n",
       "      <td>9.064</td>\n",
       "      <td>-0.000</td>\n",
       "      <td>-0.001</td>\n",
       "      <td>0.003</td>\n",
       "      <td>0.000</td>\n",
       "      <td>9.61</td>\n",
       "      <td>10.20</td>\n",
       "      <td>7.75</td>\n",
       "      <td>9.03</td>\n",
       "    </tr>\n",
       "    <tr>\n",
       "      <th>3</th>\n",
       "      <td>0.003</td>\n",
       "      <td>1.4</td>\n",
       "      <td>3.3</td>\n",
       "      <td>0.0</td>\n",
       "      <td>94.5</td>\n",
       "      <td>1662</td>\n",
       "      <td>4.97</td>\n",
       "      <td>52158.50</td>\n",
       "      <td>NaN</td>\n",
       "      <td>NaN</td>\n",
       "      <td>...</td>\n",
       "      <td>9.280</td>\n",
       "      <td>8.868</td>\n",
       "      <td>-0.000</td>\n",
       "      <td>-0.001</td>\n",
       "      <td>0.003</td>\n",
       "      <td>0.000</td>\n",
       "      <td>9.61</td>\n",
       "      <td>10.10</td>\n",
       "      <td>7.46</td>\n",
       "      <td>9.42</td>\n",
       "    </tr>\n",
       "    <tr>\n",
       "      <th>4</th>\n",
       "      <td>0.004</td>\n",
       "      <td>1.4</td>\n",
       "      <td>3.3</td>\n",
       "      <td>0.0</td>\n",
       "      <td>94.0</td>\n",
       "      <td>1662</td>\n",
       "      <td>4.97</td>\n",
       "      <td>52158.50</td>\n",
       "      <td>NaN</td>\n",
       "      <td>NaN</td>\n",
       "      <td>...</td>\n",
       "      <td>8.662</td>\n",
       "      <td>8.986</td>\n",
       "      <td>-0.000</td>\n",
       "      <td>-0.001</td>\n",
       "      <td>0.003</td>\n",
       "      <td>0.000</td>\n",
       "      <td>10.01</td>\n",
       "      <td>10.01</td>\n",
       "      <td>9.42</td>\n",
       "      <td>10.99</td>\n",
       "    </tr>\n",
       "    <tr>\n",
       "      <th>...</th>\n",
       "      <td>...</td>\n",
       "      <td>...</td>\n",
       "      <td>...</td>\n",
       "      <td>...</td>\n",
       "      <td>...</td>\n",
       "      <td>...</td>\n",
       "      <td>...</td>\n",
       "      <td>...</td>\n",
       "      <td>...</td>\n",
       "      <td>...</td>\n",
       "      <td>...</td>\n",
       "      <td>...</td>\n",
       "      <td>...</td>\n",
       "      <td>...</td>\n",
       "      <td>...</td>\n",
       "      <td>...</td>\n",
       "      <td>...</td>\n",
       "      <td>...</td>\n",
       "      <td>...</td>\n",
       "      <td>...</td>\n",
       "      <td>...</td>\n",
       "    </tr>\n",
       "    <tr>\n",
       "      <th>535463</th>\n",
       "      <td>535.463</td>\n",
       "      <td>-9.5</td>\n",
       "      <td>0.3</td>\n",
       "      <td>0.0</td>\n",
       "      <td>0.0</td>\n",
       "      <td>0</td>\n",
       "      <td>4.96</td>\n",
       "      <td>52693.98</td>\n",
       "      <td>26.921374</td>\n",
       "      <td>-80.305995</td>\n",
       "      <td>...</td>\n",
       "      <td>9.182</td>\n",
       "      <td>9.133</td>\n",
       "      <td>0.002</td>\n",
       "      <td>0.001</td>\n",
       "      <td>-0.003</td>\n",
       "      <td>0.004</td>\n",
       "      <td>10.40</td>\n",
       "      <td>9.91</td>\n",
       "      <td>8.24</td>\n",
       "      <td>8.14</td>\n",
       "    </tr>\n",
       "    <tr>\n",
       "      <th>535464</th>\n",
       "      <td>535.464</td>\n",
       "      <td>-9.5</td>\n",
       "      <td>0.2</td>\n",
       "      <td>0.0</td>\n",
       "      <td>0.0</td>\n",
       "      <td>0</td>\n",
       "      <td>4.97</td>\n",
       "      <td>52693.98</td>\n",
       "      <td>26.921374</td>\n",
       "      <td>-80.305995</td>\n",
       "      <td>...</td>\n",
       "      <td>9.212</td>\n",
       "      <td>9.153</td>\n",
       "      <td>0.002</td>\n",
       "      <td>0.001</td>\n",
       "      <td>-0.003</td>\n",
       "      <td>0.004</td>\n",
       "      <td>10.20</td>\n",
       "      <td>9.81</td>\n",
       "      <td>8.14</td>\n",
       "      <td>8.14</td>\n",
       "    </tr>\n",
       "    <tr>\n",
       "      <th>535465</th>\n",
       "      <td>535.465</td>\n",
       "      <td>-9.5</td>\n",
       "      <td>0.2</td>\n",
       "      <td>0.0</td>\n",
       "      <td>0.0</td>\n",
       "      <td>0</td>\n",
       "      <td>4.96</td>\n",
       "      <td>52693.98</td>\n",
       "      <td>26.921374</td>\n",
       "      <td>-80.305995</td>\n",
       "      <td>...</td>\n",
       "      <td>9.182</td>\n",
       "      <td>9.182</td>\n",
       "      <td>0.002</td>\n",
       "      <td>0.001</td>\n",
       "      <td>-0.003</td>\n",
       "      <td>0.004</td>\n",
       "      <td>10.20</td>\n",
       "      <td>9.71</td>\n",
       "      <td>8.04</td>\n",
       "      <td>8.04</td>\n",
       "    </tr>\n",
       "    <tr>\n",
       "      <th>535466</th>\n",
       "      <td>535.466</td>\n",
       "      <td>-9.5</td>\n",
       "      <td>0.3</td>\n",
       "      <td>0.0</td>\n",
       "      <td>0.0</td>\n",
       "      <td>0</td>\n",
       "      <td>4.96</td>\n",
       "      <td>52693.98</td>\n",
       "      <td>26.921374</td>\n",
       "      <td>-80.305995</td>\n",
       "      <td>...</td>\n",
       "      <td>9.182</td>\n",
       "      <td>9.182</td>\n",
       "      <td>0.002</td>\n",
       "      <td>0.001</td>\n",
       "      <td>-0.003</td>\n",
       "      <td>0.004</td>\n",
       "      <td>10.20</td>\n",
       "      <td>9.81</td>\n",
       "      <td>8.04</td>\n",
       "      <td>8.04</td>\n",
       "    </tr>\n",
       "    <tr>\n",
       "      <th>535467</th>\n",
       "      <td>535.467</td>\n",
       "      <td>-9.5</td>\n",
       "      <td>0.2</td>\n",
       "      <td>0.0</td>\n",
       "      <td>0.0</td>\n",
       "      <td>0</td>\n",
       "      <td>4.97</td>\n",
       "      <td>52693.98</td>\n",
       "      <td>26.921374</td>\n",
       "      <td>-80.305995</td>\n",
       "      <td>...</td>\n",
       "      <td>9.182</td>\n",
       "      <td>9.182</td>\n",
       "      <td>0.002</td>\n",
       "      <td>0.001</td>\n",
       "      <td>-0.003</td>\n",
       "      <td>0.004</td>\n",
       "      <td>10.40</td>\n",
       "      <td>9.81</td>\n",
       "      <td>8.14</td>\n",
       "      <td>7.95</td>\n",
       "    </tr>\n",
       "  </tbody>\n",
       "</table>\n",
       "<p>535468 rows × 56 columns</p>\n",
       "</div>"
      ],
      "text/plain": [
       "           time  handwheelAngle  throttle  brake  clutch  engineSpeed   PPS  \\\n",
       "0         0.000             1.4       3.3    0.0    95.0         1662  4.97   \n",
       "1         0.001             1.4       3.3    0.0    95.0         1662  4.95   \n",
       "2         0.002             1.4       3.3    0.0    94.5         1662  4.96   \n",
       "3         0.003             1.4       3.3    0.0    94.5         1662  4.97   \n",
       "4         0.004             1.4       3.3    0.0    94.0         1662  4.97   \n",
       "...         ...             ...       ...    ...     ...          ...   ...   \n",
       "535463  535.463            -9.5       0.3    0.0     0.0            0  4.96   \n",
       "535464  535.464            -9.5       0.2    0.0     0.0            0  4.97   \n",
       "535465  535.465            -9.5       0.2    0.0     0.0            0  4.96   \n",
       "535466  535.466            -9.5       0.3    0.0     0.0            0  4.96   \n",
       "535467  535.467            -9.5       0.2    0.0     0.0            0  4.97   \n",
       "\n",
       "         gpsTime   latitude  longitude  ...  chassisAccelRL  chassisAccelRR  \\\n",
       "0       52158.50        NaN        NaN  ...           8.633           9.231   \n",
       "1       52158.50        NaN        NaN  ...           9.182          10.114   \n",
       "2       52158.50        NaN        NaN  ...           8.731           9.064   \n",
       "3       52158.50        NaN        NaN  ...           9.280           8.868   \n",
       "4       52158.50        NaN        NaN  ...           8.662           8.986   \n",
       "...          ...        ...        ...  ...             ...             ...   \n",
       "535463  52693.98  26.921374 -80.305995  ...           9.182           9.133   \n",
       "535464  52693.98  26.921374 -80.305995  ...           9.212           9.153   \n",
       "535465  52693.98  26.921374 -80.305995  ...           9.182           9.182   \n",
       "535466  52693.98  26.921374 -80.305995  ...           9.182           9.182   \n",
       "535467  52693.98  26.921374 -80.305995  ...           9.182           9.182   \n",
       "\n",
       "        deflectionFL  deflectionFR  deflectionRL  deflectionRR  wheelAccelFL  \\\n",
       "0             -0.000        -0.001         0.003         0.000         10.01   \n",
       "1             -0.000        -0.001         0.003         0.000          9.91   \n",
       "2             -0.000        -0.001         0.003         0.000          9.61   \n",
       "3             -0.000        -0.001         0.003         0.000          9.61   \n",
       "4             -0.000        -0.001         0.003         0.000         10.01   \n",
       "...              ...           ...           ...           ...           ...   \n",
       "535463         0.002         0.001        -0.003         0.004         10.40   \n",
       "535464         0.002         0.001        -0.003         0.004         10.20   \n",
       "535465         0.002         0.001        -0.003         0.004         10.20   \n",
       "535466         0.002         0.001        -0.003         0.004         10.20   \n",
       "535467         0.002         0.001        -0.003         0.004         10.40   \n",
       "\n",
       "        wheelAccelFR  wheelAccelRL  wheelAccelRR  \n",
       "0              10.40          9.12          9.32  \n",
       "1              10.30          8.44          9.12  \n",
       "2              10.20          7.75          9.03  \n",
       "3              10.10          7.46          9.42  \n",
       "4              10.01          9.42         10.99  \n",
       "...              ...           ...           ...  \n",
       "535463          9.91          8.24          8.14  \n",
       "535464          9.81          8.14          8.14  \n",
       "535465          9.71          8.04          8.04  \n",
       "535466          9.81          8.04          8.04  \n",
       "535467          9.81          8.14          7.95  \n",
       "\n",
       "[535468 rows x 56 columns]"
      ]
     },
     "execution_count": 12,
     "metadata": {},
     "output_type": "execute_result"
    }
   ],
   "source": [
    "df4 = df[df['latitude'].notnull()]\n",
    "df4 = df[df['brake'].notnull()]\n",
    "df4"
   ]
  },
  {
   "cell_type": "code",
   "execution_count": 13,
   "metadata": {},
   "outputs": [
    {
     "data": {
      "text/plain": [
       "<matplotlib.collections.PathCollection at 0x18506dc93f0>"
      ]
     },
     "execution_count": 13,
     "metadata": {},
     "output_type": "execute_result"
    },
    {
     "data": {
      "image/png": "[encoded data removed]",
      "text/plain": [
       "<Figure size 432x288 with 1 Axes>"
      ]
     },
     "metadata": {
      "needs_background": "light"
     },
     "output_type": "display_data"
    }
   ],
   "source": [
    "#plt.scatter(x=df4.loc[(df4['time']<198.97)&(df4['time']>64.06),'latitude'], y = df.loc[(df['time']<198.97)&(df['time']>64.06),'longitude'],alpha=.55, s=1,c=df.loc[(df4['time']<198.97)&(df['time']>64.06),'brake'])\n",
    "plt.scatter(x = df['latitude'], y = df['longitude'],alpha=.55, s=1,color='black')\n",
    "plt.scatter(x=df.loc[(df['brake']>0)&(df['brake']<=10),'latitude'],y=df.loc[(df['brake']>0)&(df['brake']<=10),'longitude'],color='red',s=5)\n",
    "plt.scatter(x=df.loc[(df['brake']>10)&(df['brake']<=20),'latitude'],y=df.loc[(df['brake']>10)&(df['brake']<=20),'longitude'],color='blue',s=5)\n",
    "plt.scatter(x=df.loc[(df['brake']>20)&(df['brake']<=30),'latitude'],y=df.loc[(df['brake']>20)&(df['brake']<=30),'longitude'],color='green',s=5)\n",
    "plt.scatter(x=df.loc[(df['brake']>30),'latitude'],y=df.loc[(df['brake']>30),'longitude'],color='orange',s=5)"
   ]
  },
  {
   "cell_type": "code",
   "execution_count": 33,
   "metadata": {},
   "outputs": [
    {
     "data": {
      "text/plain": [
       "<matplotlib.collections.PathCollection at 0x18505998fd0>"
      ]
     },
     "execution_count": 33,
     "metadata": {},
     "output_type": "execute_result"
    },
    {
     "data": {
      "image/png": "[encoded data removed]",
      "text/plain": [
       "<Figure size 432x288 with 1 Axes>"
      ]
     },
     "metadata": {
      "needs_background": "light"
     },
     "output_type": "display_data"
    }
   ],
   "source": [
    "plt.scatter(x = df['latitude'], y = df['longitude'],alpha=.55, s=1,color='black')\n",
    "#plt.scatter(x = df.loc[(df['time']>250.40)&(df['time']<=361.35),'latitude'], y = df.loc[(df['time']>250.40)&(df['time']<=361.35),'longitude'],alpha=.55, s=1,color='blue')\n",
    "#plt.scatter(x=df.loc[(df['brake']>16)&(df['brake']<=18)&(df['time']>250.40)&(df['time']<=361.35),'latitude'],y=df.loc[(df['brake']>16)&(df['brake']<=18)&(df['time']>250.40)&(df['time']<=361.35),'longitude'],color='red',s=5)\n",
    "#plt.scatter(x=df.loc[(df['brake']>0)&(df['time']>250.40)&(df['time']<=361.35),'latitude'],y=df.loc[(df['brake']>0)&(df['time']>250.40)&(df['time']<=361.35),'longitude'],color='red',s=5)"
   ]
  },
  {
   "cell_type": "code",
   "execution_count": 14,
   "metadata": {},
   "outputs": [
    {
     "data": {
      "text/plain": [
       "294570    294.570\n",
       "294571    294.571\n",
       "294572    294.572\n",
       "294573    294.573\n",
       "294574    294.574\n",
       "294575    294.575\n",
       "294576    294.576\n",
       "294577    294.577\n",
       "294578    294.578\n",
       "294579    294.579\n",
       "294581    294.581\n",
       "294582    294.582\n",
       "Name: time, dtype: float64"
      ]
     },
     "execution_count": 14,
     "metadata": {},
     "output_type": "execute_result"
    }
   ],
   "source": [
    "df.brake.max()\n",
    "df.brake.min()\n",
    "df.loc[(df['brake']==100),'time']"
   ]
  },
  {
   "cell_type": "code",
   "execution_count": 15,
   "metadata": {},
   "outputs": [
    {
     "data": {
      "text/plain": [
       "(array([5.24757e+05, 0.00000e+00, 2.46200e+03, 0.00000e+00, 0.00000e+00,\n",
       "        4.83400e+03, 0.00000e+00, 0.00000e+00, 1.66900e+03, 0.00000e+00,\n",
       "        0.00000e+00, 8.50000e+02, 0.00000e+00, 9.90000e+01, 0.00000e+00,\n",
       "        0.00000e+00, 1.05000e+02, 0.00000e+00, 0.00000e+00, 3.90000e+01,\n",
       "        0.00000e+00, 0.00000e+00, 1.27000e+02, 0.00000e+00, 0.00000e+00,\n",
       "        4.50000e+01, 0.00000e+00, 3.90000e+01, 0.00000e+00, 0.00000e+00,\n",
       "        2.00000e+01, 0.00000e+00, 0.00000e+00, 3.80000e+01, 0.00000e+00,\n",
       "        0.00000e+00, 8.10000e+01, 0.00000e+00, 5.90000e+01, 0.00000e+00,\n",
       "        0.00000e+00, 7.70000e+01, 0.00000e+00, 0.00000e+00, 6.50000e+01,\n",
       "        0.00000e+00, 0.00000e+00, 9.00000e+01, 0.00000e+00, 1.20000e+01]),\n",
       " array([  0.,   2.,   4.,   6.,   8.,  10.,  12.,  14.,  16.,  18.,  20.,\n",
       "         22.,  24.,  26.,  28.,  30.,  32.,  34.,  36.,  38.,  40.,  42.,\n",
       "         44.,  46.,  48.,  50.,  52.,  54.,  56.,  58.,  60.,  62.,  64.,\n",
       "         66.,  68.,  70.,  72.,  74.,  76.,  78.,  80.,  82.,  84.,  86.,\n",
       "         88.,  90.,  92.,  94.,  96.,  98., 100.]),\n",
       " <BarContainer object of 50 artists>)"
      ]
     },
     "execution_count": 15,
     "metadata": {},
     "output_type": "execute_result"
    },
    {
     "data": {
      "image/png": "[encoded data removed]",
      "text/plain": [
       "<Figure size 432x288 with 1 Axes>"
      ]
     },
     "metadata": {
      "needs_background": "light"
     },
     "output_type": "display_data"
    }
   ],
   "source": [
    "plt.title('Frequência dos valores de freio')\n",
    "plt.xlabel('Freio')\n",
    "plt.ylabel('Frequência absoluta')\n",
    "plt.hist(df['brake'],50,rwidth=0.9)"
   ]
  },
  {
   "cell_type": "code",
   "execution_count": 16,
   "metadata": {},
   "outputs": [
    {
     "name": "stdout",
     "output_type": "stream",
     "text": [
      "O valor do freio de 0 ate 2: 0\n",
      "O valor do freio de 2 ate 4: 0\n",
      "O valor do freio de 4 ate 6: 2462\n",
      "O valor do freio de 6 ate 8: 0\n",
      "O valor do freio de 8 ate 10: 0\n",
      "O valor do freio de 10 ate 12: 4834\n",
      "O valor do freio de 12 ate 14: 0\n",
      "O valor do freio de 14 ate 16: 0\n",
      "O valor do freio de 16 ate 18: 1669\n",
      "O valor do freio de 18 ate 20: 0\n",
      "O valor do freio de 20 ate 22: 0\n",
      "O valor do freio de 22 ate 24: 850\n",
      "O valor do freio de 24 ate 26: 0\n",
      "O valor do freio de 26 ate 28: 99\n",
      "O valor do freio de 28 ate 30: 0\n",
      "O valor do freio de 30 ate 32: 0\n",
      "O valor do freio de 32 ate 34: 105\n",
      "O valor do freio de 34 ate 36: 0\n",
      "O valor do freio de 36 ate 38: 0\n",
      "O valor do freio de 38 ate 40: 39\n",
      "O valor do freio de 40 ate 42: 0\n",
      "O valor do freio de 42 ate 44: 0\n",
      "O valor do freio de 44 ate 46: 127\n",
      "O valor do freio de 46 ate 48: 0\n",
      "O valor do freio de 48 ate 50: 45\n",
      "O valor do freio de 50 ate 52: 0\n",
      "O valor do freio de 52 ate 54: 0\n",
      "O valor do freio de 54 ate 56: 39\n",
      "O valor do freio de 56 ate 58: 0\n",
      "O valor do freio de 58 ate 60: 0\n",
      "O valor do freio de 60 ate 62: 20\n",
      "O valor do freio de 62 ate 64: 0\n",
      "O valor do freio de 64 ate 66: 0\n",
      "O valor do freio de 66 ate 68: 38\n",
      "O valor do freio de 68 ate 70: 0\n",
      "O valor do freio de 70 ate 72: 0\n",
      "O valor do freio de 72 ate 74: 81\n",
      "O valor do freio de 74 ate 76: 0\n",
      "O valor do freio de 76 ate 78: 59\n",
      "O valor do freio de 78 ate 80: 0\n",
      "O valor do freio de 80 ate 82: 0\n",
      "O valor do freio de 82 ate 84: 77\n",
      "O valor do freio de 84 ate 86: 0\n",
      "O valor do freio de 86 ate 88: 0\n",
      "O valor do freio de 88 ate 90: 65\n",
      "O valor do freio de 90 ate 92: 0\n",
      "O valor do freio de 92 ate 94: 0\n",
      "O valor do freio de 94 ate 96: 90\n",
      "O valor do freio de 96 ate 98: 0\n",
      "O valor do freio de 98 ate 100: 12\n",
      "O valor do freio de 100 ate 102: 0\n"
     ]
    }
   ],
   "source": [
    "for x in range(0,101,2):\n",
    "    y = df.loc[(df['brake']>x)&(df['brake']<=(x+2)),'brake'].count()\n",
    "    print(f'O valor do freio de {x} ate {x+2}:',y)"
   ]
  },
  {
   "cell_type": "code",
   "execution_count": 26,
   "metadata": {},
   "outputs": [
    {
     "data": {
      "text/plain": [
       "<matplotlib.collections.PathCollection at 0x18524159450>"
      ]
     },
     "execution_count": 26,
     "metadata": {},
     "output_type": "execute_result"
    },
    {
     "data": {
      "image/png": "[encoded data removed]",
      "text/plain": [
       "<Figure size 432x288 with 1 Axes>"
      ]
     },
     "metadata": {
      "needs_background": "light"
     },
     "output_type": "display_data"
    }
   ],
   "source": [
    "plt.scatter(x = df['latitude'], y = df['longitude'],alpha=.55, s=1,color='black')\n",
    "plt.scatter(x=df.loc[(df['brake']>4)&(df['brake']<=6),'latitude'],y=df.loc[(df['brake']>4)&(df['brake']<=6),'longitude'],color='red',s=5)"
   ]
  },
  {
   "cell_type": "code",
   "execution_count": 27,
   "metadata": {},
   "outputs": [
    {
     "data": {
      "text/plain": [
       "<matplotlib.collections.PathCollection at 0x18505658610>"
      ]
     },
     "execution_count": 27,
     "metadata": {},
     "output_type": "execute_result"
    },
    {
     "data": {
      "image/png": "[encoded data removed]",
      "text/plain": [
       "<Figure size 432x288 with 1 Axes>"
      ]
     },
     "metadata": {
      "needs_background": "light"
     },
     "output_type": "display_data"
    }
   ],
   "source": [
    "plt.scatter(x = df['latitude'], y = df['longitude'],alpha=.55, s=1,color='black')\n",
    "plt.scatter(x=df.loc[(df['brake']>10)&(df['brake']<=12),'latitude'],y=df.loc[(df['brake']>10)&(df['brake']<=12),'longitude'],color='red',s=5)"
   ]
  },
  {
   "cell_type": "code",
   "execution_count": 28,
   "metadata": {},
   "outputs": [
    {
     "data": {
      "text/plain": [
       "<matplotlib.collections.PathCollection at 0x18525eee170>"
      ]
     },
     "execution_count": 28,
     "metadata": {},
     "output_type": "execute_result"
    },
    {
     "data": {
      "image/png": "[encoded data removed]",
      "text/plain": [
       "<Figure size 432x288 with 1 Axes>"
      ]
     },
     "metadata": {
      "needs_background": "light"
     },
     "output_type": "display_data"
    }
   ],
   "source": [
    "plt.scatter(x = df['latitude'], y = df['longitude'],alpha=.55, s=1,color='black')\n",
    "plt.scatter(x=df.loc[(df['brake']>16)&(df['brake']<=18),'latitude'],y=df.loc[(df['brake']>16)&(df['brake']<=18),'longitude'],color='red',s=5)"
   ]
  },
  {
   "cell_type": "code",
   "execution_count": 30,
   "metadata": {},
   "outputs": [
    {
     "data": {
      "text/plain": [
       "<matplotlib.collections.PathCollection at 0x1850586b1f0>"
      ]
     },
     "execution_count": 30,
     "metadata": {},
     "output_type": "execute_result"
    },
    {
     "data": {
      "image/png": "[encoded data removed]",
      "text/plain": [
       "<Figure size 432x288 with 1 Axes>"
      ]
     },
     "metadata": {
      "needs_background": "light"
     },
     "output_type": "display_data"
    }
   ],
   "source": [
    "plt.scatter(x = df['latitude'], y = df['longitude'],alpha=.55, s=1,color='black')\n",
    "plt.scatter(x=df.loc[(df['brake']>22)&(df['brake']<=24),'latitude'],y=df.loc[(df['brake']>22)&(df['brake']<=24),'longitude'],color='red',s=5)"
   ]
  },
  {
   "cell_type": "code",
   "execution_count": 31,
   "metadata": {},
   "outputs": [
    {
     "data": {
      "text/plain": [
       "<matplotlib.collections.PathCollection at 0x185058d9840>"
      ]
     },
     "execution_count": 31,
     "metadata": {},
     "output_type": "execute_result"
    },
    {
     "data": {
      "image/png": "[encoded data removed]",
      "text/plain": [
       "<Figure size 432x288 with 1 Axes>"
      ]
     },
     "metadata": {
      "needs_background": "light"
     },
     "output_type": "display_data"
    }
   ],
   "source": [
    "plt.scatter(x = df['latitude'], y = df['longitude'],alpha=.55, s=1,color='black')\n",
    "plt.scatter(x=df.loc[(df['brake']>24),'latitude'],y=df.loc[(df['brake']>24),'longitude'],color='red',s=5)"
   ]
  },
  {
   "cell_type": "code",
   "execution_count": 18,
   "metadata": {},
   "outputs": [
    {
     "data": {
      "text/plain": [
       "535468"
      ]
     },
     "execution_count": 18,
     "metadata": {},
     "output_type": "execute_result"
    }
   ],
   "source": [
    "df.brake.isna().count()"
   ]
  },
  {
   "cell_type": "markdown",
   "metadata": {},
   "source": [
    "## Relação time(segundos) x latitude(metros) e time(segundos) x longitude(metros):\n",
    "Percebe-se que, quantidade de voltas = repetições do gráfico - 1"
   ]
  },
  {
   "cell_type": "code",
   "execution_count": 19,
   "metadata": {},
   "outputs": [
    {
     "data": {
      "image/png": "[encoded data removed]",
      "text/plain": [
       "<Figure size 432x288 with 1 Axes>"
      ]
     },
     "metadata": {
      "needs_background": "light"
     },
     "output_type": "display_data"
    }
   ],
   "source": [
    "import seaborn as sns\n",
    "\n",
    "sns.lineplot(x=df['time'],y=df['latitude'])\n",
    "plt.show()"
   ]
  },
  {
   "cell_type": "code",
   "execution_count": 20,
   "metadata": {},
   "outputs": [
    {
     "data": {
      "image/png": "[encoded data removed]",
      "text/plain": [
       "<Figure size 432x288 with 1 Axes>"
      ]
     },
     "metadata": {
      "needs_background": "light"
     },
     "output_type": "display_data"
    }
   ],
   "source": [
    "sns.lineplot(x=df['time'],y=df['longitude'])\n",
    "plt.show()"
   ]
  },
  {
   "cell_type": "markdown",
   "metadata": {},
   "source": [
    "## Calculando o comprimento da pista usando os tempos do arquivo \"laps(arquivo1).xlsx\", em metros(m):\n",
    "Observa-se que o resultado é aproximadamente igual aos valores obtidos nos outros arquivos."
   ]
  },
  {
   "cell_type": "code",
   "execution_count": 21,
   "metadata": {},
   "outputs": [
    {
     "data": {
      "text/plain": [
       "3388.338"
      ]
     },
     "metadata": {},
     "output_type": "display_data"
    },
    {
     "data": {
      "text/plain": [
       "3132.9060000000004"
      ]
     },
     "metadata": {},
     "output_type": "display_data"
    },
    {
     "name": "stdout",
     "output_type": "stream",
     "text": [
      "O comprimento da pista é: 3132.91 metros\n"
     ]
    }
   ],
   "source": [
    "distance1 = df.loc[df.time==198.97,'distance'].item()-df.loc[df.time==64.06,'distance'].item()\n",
    "\n",
    "display(df.loc[df.time==198.97,'distance'].item())\n",
    "display(distance1)\n",
    "\n",
    "print('O comprimento da pista é:','%.2f' % distance1,'metros')"
   ]
  },
  {
   "cell_type": "markdown",
   "metadata": {},
   "source": [
    "## Tempo aproximado para cada volta, baseado na tabela \"laps(arquivo1).xlsx\", em segundos(s):"
   ]
  },
  {
   "cell_type": "code",
   "execution_count": 22,
   "metadata": {},
   "outputs": [
    {
     "name": "stdout",
     "output_type": "stream",
     "text": [
      "Primeira volta: 134.91 s\n"
     ]
    }
   ],
   "source": [
    "lap = 198.97 - 64.06\n",
    "\n",
    "print('Primeira volta:','%.2f' % lap, 's')"
   ]
  },
  {
   "cell_type": "markdown",
   "metadata": {},
   "source": [
    "## Calculando a velocidade média usando a coluna horizontalSpeed, em metros por segundo(m/s):\n",
    "Para isso, iremos tratar a tabela primeiro para remover tanto os intervalos nos quais o carro estava parado, quanto a volta que o piloto deu para retornar a posição inicial. Para o cálculo da velocidade média, iremos usar a única volta dada pelo piloto."
   ]
  },
  {
   "cell_type": "code",
   "execution_count": 23,
   "metadata": {},
   "outputs": [
    {
     "data": {
      "text/html": [
       "<div>\n",
       "<style scoped>\n",
       "    .dataframe tbody tr th:only-of-type {\n",
       "        vertical-align: middle;\n",
       "    }\n",
       "\n",
       "    .dataframe tbody tr th {\n",
       "        vertical-align: top;\n",
       "    }\n",
       "\n",
       "    .dataframe thead th {\n",
       "        text-align: right;\n",
       "    }\n",
       "</style>\n",
       "<table border=\"1\" class=\"dataframe\">\n",
       "  <thead>\n",
       "    <tr style=\"text-align: right;\">\n",
       "      <th></th>\n",
       "      <th>time</th>\n",
       "      <th>handwheelAngle</th>\n",
       "      <th>throttle</th>\n",
       "      <th>brake</th>\n",
       "      <th>clutch</th>\n",
       "      <th>engineSpeed</th>\n",
       "      <th>PPS</th>\n",
       "      <th>gpsTime</th>\n",
       "      <th>latitude</th>\n",
       "      <th>longitude</th>\n",
       "      <th>altitude</th>\n",
       "      <th>horizontalSpeed</th>\n",
       "      <th>distance</th>\n",
       "    </tr>\n",
       "  </thead>\n",
       "  <tbody>\n",
       "    <tr>\n",
       "      <th>0</th>\n",
       "      <td>53.60</td>\n",
       "      <td>10.6</td>\n",
       "      <td>9.0</td>\n",
       "      <td>0.0</td>\n",
       "      <td>0.0</td>\n",
       "      <td>3024</td>\n",
       "      <td>4.96</td>\n",
       "      <td>52212.10</td>\n",
       "      <td>26.922305</td>\n",
       "      <td>-80.305846</td>\n",
       "      <td>-21.362</td>\n",
       "      <td>12.75</td>\n",
       "      <td>92.996</td>\n",
       "    </tr>\n",
       "    <tr>\n",
       "      <th>1</th>\n",
       "      <td>53.61</td>\n",
       "      <td>10.3</td>\n",
       "      <td>9.2</td>\n",
       "      <td>0.0</td>\n",
       "      <td>0.0</td>\n",
       "      <td>3024</td>\n",
       "      <td>4.96</td>\n",
       "      <td>52212.11</td>\n",
       "      <td>26.922306</td>\n",
       "      <td>-80.305846</td>\n",
       "      <td>-21.361</td>\n",
       "      <td>12.76</td>\n",
       "      <td>93.123</td>\n",
       "    </tr>\n",
       "    <tr>\n",
       "      <th>2</th>\n",
       "      <td>53.62</td>\n",
       "      <td>9.9</td>\n",
       "      <td>9.0</td>\n",
       "      <td>0.0</td>\n",
       "      <td>0.0</td>\n",
       "      <td>3036</td>\n",
       "      <td>4.97</td>\n",
       "      <td>52212.12</td>\n",
       "      <td>26.922307</td>\n",
       "      <td>-80.305846</td>\n",
       "      <td>-21.360</td>\n",
       "      <td>12.77</td>\n",
       "      <td>93.251</td>\n",
       "    </tr>\n",
       "    <tr>\n",
       "      <th>3</th>\n",
       "      <td>53.63</td>\n",
       "      <td>9.7</td>\n",
       "      <td>9.3</td>\n",
       "      <td>0.0</td>\n",
       "      <td>0.0</td>\n",
       "      <td>3036</td>\n",
       "      <td>4.96</td>\n",
       "      <td>52212.13</td>\n",
       "      <td>26.922308</td>\n",
       "      <td>-80.305845</td>\n",
       "      <td>-21.360</td>\n",
       "      <td>12.79</td>\n",
       "      <td>93.384</td>\n",
       "    </tr>\n",
       "    <tr>\n",
       "      <th>4</th>\n",
       "      <td>53.64</td>\n",
       "      <td>10.0</td>\n",
       "      <td>9.1</td>\n",
       "      <td>0.0</td>\n",
       "      <td>0.0</td>\n",
       "      <td>3036</td>\n",
       "      <td>4.97</td>\n",
       "      <td>52212.14</td>\n",
       "      <td>26.922310</td>\n",
       "      <td>-80.305845</td>\n",
       "      <td>-21.360</td>\n",
       "      <td>12.81</td>\n",
       "      <td>93.512</td>\n",
       "    </tr>\n",
       "    <tr>\n",
       "      <th>...</th>\n",
       "      <td>...</td>\n",
       "      <td>...</td>\n",
       "      <td>...</td>\n",
       "      <td>...</td>\n",
       "      <td>...</td>\n",
       "      <td>...</td>\n",
       "      <td>...</td>\n",
       "      <td>...</td>\n",
       "      <td>...</td>\n",
       "      <td>...</td>\n",
       "      <td>...</td>\n",
       "      <td>...</td>\n",
       "      <td>...</td>\n",
       "    </tr>\n",
       "    <tr>\n",
       "      <th>26116</th>\n",
       "      <td>524.01</td>\n",
       "      <td>-9.4</td>\n",
       "      <td>0.2</td>\n",
       "      <td>0.0</td>\n",
       "      <td>0.0</td>\n",
       "      <td>0</td>\n",
       "      <td>4.96</td>\n",
       "      <td>52682.53</td>\n",
       "      <td>26.921374</td>\n",
       "      <td>-80.305996</td>\n",
       "      <td>-21.219</td>\n",
       "      <td>0.02</td>\n",
       "      <td>6256.706</td>\n",
       "    </tr>\n",
       "    <tr>\n",
       "      <th>26117</th>\n",
       "      <td>524.49</td>\n",
       "      <td>-9.5</td>\n",
       "      <td>0.2</td>\n",
       "      <td>0.0</td>\n",
       "      <td>0.0</td>\n",
       "      <td>0</td>\n",
       "      <td>4.96</td>\n",
       "      <td>52683.01</td>\n",
       "      <td>26.921374</td>\n",
       "      <td>-80.305996</td>\n",
       "      <td>-21.210</td>\n",
       "      <td>0.02</td>\n",
       "      <td>6256.730</td>\n",
       "    </tr>\n",
       "    <tr>\n",
       "      <th>26118</th>\n",
       "      <td>524.91</td>\n",
       "      <td>-9.5</td>\n",
       "      <td>0.2</td>\n",
       "      <td>0.0</td>\n",
       "      <td>0.0</td>\n",
       "      <td>0</td>\n",
       "      <td>4.96</td>\n",
       "      <td>52683.43</td>\n",
       "      <td>26.921374</td>\n",
       "      <td>-80.305996</td>\n",
       "      <td>-21.203</td>\n",
       "      <td>0.02</td>\n",
       "      <td>6256.780</td>\n",
       "    </tr>\n",
       "    <tr>\n",
       "      <th>26119</th>\n",
       "      <td>526.38</td>\n",
       "      <td>-9.5</td>\n",
       "      <td>0.2</td>\n",
       "      <td>0.0</td>\n",
       "      <td>0.0</td>\n",
       "      <td>0</td>\n",
       "      <td>4.96</td>\n",
       "      <td>52684.90</td>\n",
       "      <td>26.921374</td>\n",
       "      <td>-80.305996</td>\n",
       "      <td>-21.195</td>\n",
       "      <td>0.00</td>\n",
       "      <td>6256.868</td>\n",
       "    </tr>\n",
       "    <tr>\n",
       "      <th>26120</th>\n",
       "      <td>529.53</td>\n",
       "      <td>-9.5</td>\n",
       "      <td>0.2</td>\n",
       "      <td>0.0</td>\n",
       "      <td>0.0</td>\n",
       "      <td>0</td>\n",
       "      <td>4.96</td>\n",
       "      <td>52688.05</td>\n",
       "      <td>26.921374</td>\n",
       "      <td>-80.305996</td>\n",
       "      <td>-21.157</td>\n",
       "      <td>0.01</td>\n",
       "      <td>6257.048</td>\n",
       "    </tr>\n",
       "  </tbody>\n",
       "</table>\n",
       "<p>26121 rows × 13 columns</p>\n",
       "</div>"
      ],
      "text/plain": [
       "         time  handwheelAngle  throttle  brake  clutch  engineSpeed   PPS  \\\n",
       "0       53.60            10.6       9.0    0.0     0.0         3024  4.96   \n",
       "1       53.61            10.3       9.2    0.0     0.0         3024  4.96   \n",
       "2       53.62             9.9       9.0    0.0     0.0         3036  4.97   \n",
       "3       53.63             9.7       9.3    0.0     0.0         3036  4.96   \n",
       "4       53.64            10.0       9.1    0.0     0.0         3036  4.97   \n",
       "...       ...             ...       ...    ...     ...          ...   ...   \n",
       "26116  524.01            -9.4       0.2    0.0     0.0            0  4.96   \n",
       "26117  524.49            -9.5       0.2    0.0     0.0            0  4.96   \n",
       "26118  524.91            -9.5       0.2    0.0     0.0            0  4.96   \n",
       "26119  526.38            -9.5       0.2    0.0     0.0            0  4.96   \n",
       "26120  529.53            -9.5       0.2    0.0     0.0            0  4.96   \n",
       "\n",
       "        gpsTime   latitude  longitude  altitude  horizontalSpeed  distance  \n",
       "0      52212.10  26.922305 -80.305846   -21.362            12.75    92.996  \n",
       "1      52212.11  26.922306 -80.305846   -21.361            12.76    93.123  \n",
       "2      52212.12  26.922307 -80.305846   -21.360            12.77    93.251  \n",
       "3      52212.13  26.922308 -80.305845   -21.360            12.79    93.384  \n",
       "4      52212.14  26.922310 -80.305845   -21.360            12.81    93.512  \n",
       "...         ...        ...        ...       ...              ...       ...  \n",
       "26116  52682.53  26.921374 -80.305996   -21.219             0.02  6256.706  \n",
       "26117  52683.01  26.921374 -80.305996   -21.210             0.02  6256.730  \n",
       "26118  52683.43  26.921374 -80.305996   -21.203             0.02  6256.780  \n",
       "26119  52684.90  26.921374 -80.305996   -21.195             0.00  6256.868  \n",
       "26120  52688.05  26.921374 -80.305996   -21.157             0.01  6257.048  \n",
       "\n",
       "[26121 rows x 13 columns]"
      ]
     },
     "execution_count": 23,
     "metadata": {},
     "output_type": "execute_result"
    }
   ],
   "source": [
    "#df = df.dropna()\n",
    "df = df.drop_duplicates(['latitude','longitude'])\n",
    "df = df.drop(df.loc[:, 'numSVsTracked':'wheelAccelRR'],axis=1)\n",
    "df = df.drop(df.loc[:, 'vxCG':'sideSlip'],axis=1)\n",
    "df = df.drop(df.loc[:, 'vNorth':'vUp'],axis=1)\n",
    "df = df.drop(df[df.time<53.60].index,axis=0)\n",
    "df = df.drop(df[df.time>561.67].index,axis=0)\n",
    "df = df.reset_index(drop=True)\n",
    "#df.to_excel('volta_exemplo.xlsx',index=False)\n",
    "df"
   ]
  },
  {
   "cell_type": "markdown",
   "metadata": {},
   "source": [
    "#### Verificando se a velocidade está com o tipo correto:"
   ]
  },
  {
   "cell_type": "code",
   "execution_count": 24,
   "metadata": {},
   "outputs": [
    {
     "name": "stdout",
     "output_type": "stream",
     "text": [
      "<class 'pandas.core.series.Series'>\n",
      "RangeIndex: 26121 entries, 0 to 26120\n",
      "Series name: horizontalSpeed\n",
      "Non-Null Count  Dtype  \n",
      "--------------  -----  \n",
      "26121 non-null  float64\n",
      "dtypes: float64(1)\n",
      "memory usage: 204.2 KB\n"
     ]
    }
   ],
   "source": [
    "df.horizontalSpeed.info()"
   ]
  },
  {
   "cell_type": "code",
   "execution_count": 25,
   "metadata": {},
   "outputs": [
    {
     "name": "stdout",
     "output_type": "stream",
     "text": [
      "A velocidade média da primeira volta foi de: 23.22 m/s\n",
      "A velocidade máxima da primeira volta foi de: 33.96 m/s\n"
     ]
    }
   ],
   "source": [
    "lap_AverageV = distance1/lap\n",
    "lap_maxV = df.loc[(df.time>53.60) & (df.time<163.02),'horizontalSpeed'].max()\n",
    "\n",
    "print('A velocidade média da primeira volta foi de:','%.2f' % lap_AverageV,'m/s')\n",
    "print('A velocidade máxima da primeira volta foi de:','%.2f' % lap_maxV,'m/s')"
   ]
  }
 ],
 "metadata": {
  "kernelspec": {
   "display_name": "Python 3.10.5 64-bit",
   "language": "python",
   "name": "python3"
  },
  "language_info": {
   "codemirror_mode": {
    "name": "ipython",
    "version": 3
   },
   "file_extension": ".py",
   "mimetype": "text/x-python",
   "name": "python",
   "nbconvert_exporter": "python",
   "pygments_lexer": "ipython3",
   "version": "3.10.5"
  },
  "orig_nbformat": 4,
  "vscode": {
   "interpreter": {
    "hash": "5cc180ea234c1957e762c75879edea730e969e3dc080311f0f61b17f8515bf04"
   }
  }
 },
 "nbformat": 4,
 "nbformat_minor": 2
}
