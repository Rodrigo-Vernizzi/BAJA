{
 "cells": [
  {
   "cell_type": "markdown",
   "metadata": {},
   "source": [
    "## Lendo a tabela:"
   ]
  },
  {
   "cell_type": "code",
   "execution_count": 15,
   "metadata": {},
   "outputs": [
    {
     "data": {
      "text/html": [
       "<div>\n",
       "<style scoped>\n",
       "    .dataframe tbody tr th:only-of-type {\n",
       "        vertical-align: middle;\n",
       "    }\n",
       "\n",
       "    .dataframe tbody tr th {\n",
       "        vertical-align: top;\n",
       "    }\n",
       "\n",
       "    .dataframe thead th {\n",
       "        text-align: right;\n",
       "    }\n",
       "</style>\n",
       "<table border=\"1\" class=\"dataframe\">\n",
       "  <thead>\n",
       "    <tr style=\"text-align: right;\">\n",
       "      <th></th>\n",
       "      <th>time</th>\n",
       "      <th>handwheelAngle</th>\n",
       "      <th>throttle</th>\n",
       "      <th>brake</th>\n",
       "      <th>clutch</th>\n",
       "      <th>engineSpeed</th>\n",
       "      <th>PPS</th>\n",
       "      <th>gpsTime</th>\n",
       "      <th>latitude</th>\n",
       "      <th>longitude</th>\n",
       "      <th>...</th>\n",
       "      <th>chassisAccelRL</th>\n",
       "      <th>chassisAccelRR</th>\n",
       "      <th>deflectionFL</th>\n",
       "      <th>deflectionFR</th>\n",
       "      <th>deflectionRL</th>\n",
       "      <th>deflectionRR</th>\n",
       "      <th>wheelAccelFL</th>\n",
       "      <th>wheelAccelFR</th>\n",
       "      <th>wheelAccelRL</th>\n",
       "      <th>wheelAccelRR</th>\n",
       "    </tr>\n",
       "  </thead>\n",
       "  <tbody>\n",
       "    <tr>\n",
       "      <th>0</th>\n",
       "      <td>0.000</td>\n",
       "      <td>-48.3</td>\n",
       "      <td>0.4</td>\n",
       "      <td>4.0</td>\n",
       "      <td>NaN</td>\n",
       "      <td>0</td>\n",
       "      <td>4.96</td>\n",
       "      <td>70176.30</td>\n",
       "      <td>26.921366</td>\n",
       "      <td>-80.306009</td>\n",
       "      <td>...</td>\n",
       "      <td>9.594</td>\n",
       "      <td>11.576</td>\n",
       "      <td>-0.002</td>\n",
       "      <td>-0.004</td>\n",
       "      <td>0.002</td>\n",
       "      <td>0.001</td>\n",
       "      <td>10.01</td>\n",
       "      <td>9.81</td>\n",
       "      <td>8.93</td>\n",
       "      <td>13.44</td>\n",
       "    </tr>\n",
       "    <tr>\n",
       "      <th>1</th>\n",
       "      <td>0.001</td>\n",
       "      <td>-48.2</td>\n",
       "      <td>0.4</td>\n",
       "      <td>4.0</td>\n",
       "      <td>NaN</td>\n",
       "      <td>0</td>\n",
       "      <td>4.94</td>\n",
       "      <td>70176.30</td>\n",
       "      <td>26.921366</td>\n",
       "      <td>-80.306009</td>\n",
       "      <td>...</td>\n",
       "      <td>9.633</td>\n",
       "      <td>11.605</td>\n",
       "      <td>-0.002</td>\n",
       "      <td>-0.004</td>\n",
       "      <td>0.002</td>\n",
       "      <td>0.001</td>\n",
       "      <td>10.20</td>\n",
       "      <td>9.81</td>\n",
       "      <td>8.83</td>\n",
       "      <td>13.44</td>\n",
       "    </tr>\n",
       "    <tr>\n",
       "      <th>2</th>\n",
       "      <td>0.002</td>\n",
       "      <td>-48.2</td>\n",
       "      <td>0.4</td>\n",
       "      <td>4.0</td>\n",
       "      <td>NaN</td>\n",
       "      <td>0</td>\n",
       "      <td>4.95</td>\n",
       "      <td>70176.30</td>\n",
       "      <td>26.921366</td>\n",
       "      <td>-80.306009</td>\n",
       "      <td>...</td>\n",
       "      <td>9.614</td>\n",
       "      <td>11.556</td>\n",
       "      <td>-0.002</td>\n",
       "      <td>-0.004</td>\n",
       "      <td>0.002</td>\n",
       "      <td>0.001</td>\n",
       "      <td>10.40</td>\n",
       "      <td>9.91</td>\n",
       "      <td>9.03</td>\n",
       "      <td>13.44</td>\n",
       "    </tr>\n",
       "    <tr>\n",
       "      <th>3</th>\n",
       "      <td>0.003</td>\n",
       "      <td>-48.3</td>\n",
       "      <td>0.4</td>\n",
       "      <td>4.0</td>\n",
       "      <td>NaN</td>\n",
       "      <td>0</td>\n",
       "      <td>4.96</td>\n",
       "      <td>70176.30</td>\n",
       "      <td>26.921366</td>\n",
       "      <td>-80.306009</td>\n",
       "      <td>...</td>\n",
       "      <td>9.614</td>\n",
       "      <td>11.576</td>\n",
       "      <td>-0.002</td>\n",
       "      <td>-0.004</td>\n",
       "      <td>0.002</td>\n",
       "      <td>0.001</td>\n",
       "      <td>10.30</td>\n",
       "      <td>9.81</td>\n",
       "      <td>9.22</td>\n",
       "      <td>13.54</td>\n",
       "    </tr>\n",
       "    <tr>\n",
       "      <th>4</th>\n",
       "      <td>0.004</td>\n",
       "      <td>-48.3</td>\n",
       "      <td>0.4</td>\n",
       "      <td>4.0</td>\n",
       "      <td>NaN</td>\n",
       "      <td>0</td>\n",
       "      <td>4.96</td>\n",
       "      <td>70176.30</td>\n",
       "      <td>26.921366</td>\n",
       "      <td>-80.306009</td>\n",
       "      <td>...</td>\n",
       "      <td>9.614</td>\n",
       "      <td>11.576</td>\n",
       "      <td>-0.002</td>\n",
       "      <td>-0.004</td>\n",
       "      <td>0.002</td>\n",
       "      <td>0.001</td>\n",
       "      <td>10.10</td>\n",
       "      <td>9.81</td>\n",
       "      <td>9.12</td>\n",
       "      <td>13.64</td>\n",
       "    </tr>\n",
       "    <tr>\n",
       "      <th>...</th>\n",
       "      <td>...</td>\n",
       "      <td>...</td>\n",
       "      <td>...</td>\n",
       "      <td>...</td>\n",
       "      <td>...</td>\n",
       "      <td>...</td>\n",
       "      <td>...</td>\n",
       "      <td>...</td>\n",
       "      <td>...</td>\n",
       "      <td>...</td>\n",
       "      <td>...</td>\n",
       "      <td>...</td>\n",
       "      <td>...</td>\n",
       "      <td>...</td>\n",
       "      <td>...</td>\n",
       "      <td>...</td>\n",
       "      <td>...</td>\n",
       "      <td>...</td>\n",
       "      <td>...</td>\n",
       "      <td>...</td>\n",
       "      <td>...</td>\n",
       "    </tr>\n",
       "    <tr>\n",
       "      <th>703995</th>\n",
       "      <td>703.995</td>\n",
       "      <td>-23.9</td>\n",
       "      <td>0.4</td>\n",
       "      <td>0.0</td>\n",
       "      <td>NaN</td>\n",
       "      <td>0</td>\n",
       "      <td>4.96</td>\n",
       "      <td>70880.33</td>\n",
       "      <td>26.921373</td>\n",
       "      <td>-80.306010</td>\n",
       "      <td>...</td>\n",
       "      <td>9.594</td>\n",
       "      <td>10.065</td>\n",
       "      <td>0.001</td>\n",
       "      <td>0.001</td>\n",
       "      <td>0.002</td>\n",
       "      <td>0.003</td>\n",
       "      <td>10.40</td>\n",
       "      <td>9.81</td>\n",
       "      <td>9.22</td>\n",
       "      <td>9.81</td>\n",
       "    </tr>\n",
       "    <tr>\n",
       "      <th>703996</th>\n",
       "      <td>703.996</td>\n",
       "      <td>-23.9</td>\n",
       "      <td>0.3</td>\n",
       "      <td>0.0</td>\n",
       "      <td>NaN</td>\n",
       "      <td>0</td>\n",
       "      <td>4.96</td>\n",
       "      <td>70880.33</td>\n",
       "      <td>26.921373</td>\n",
       "      <td>-80.306010</td>\n",
       "      <td>...</td>\n",
       "      <td>9.614</td>\n",
       "      <td>10.065</td>\n",
       "      <td>0.001</td>\n",
       "      <td>0.001</td>\n",
       "      <td>0.002</td>\n",
       "      <td>0.003</td>\n",
       "      <td>10.20</td>\n",
       "      <td>9.81</td>\n",
       "      <td>9.12</td>\n",
       "      <td>9.61</td>\n",
       "    </tr>\n",
       "    <tr>\n",
       "      <th>703997</th>\n",
       "      <td>703.997</td>\n",
       "      <td>-23.9</td>\n",
       "      <td>0.3</td>\n",
       "      <td>0.0</td>\n",
       "      <td>NaN</td>\n",
       "      <td>0</td>\n",
       "      <td>4.96</td>\n",
       "      <td>70880.33</td>\n",
       "      <td>26.921373</td>\n",
       "      <td>-80.306010</td>\n",
       "      <td>...</td>\n",
       "      <td>9.614</td>\n",
       "      <td>10.045</td>\n",
       "      <td>0.001</td>\n",
       "      <td>0.001</td>\n",
       "      <td>0.002</td>\n",
       "      <td>0.003</td>\n",
       "      <td>10.20</td>\n",
       "      <td>9.91</td>\n",
       "      <td>9.03</td>\n",
       "      <td>9.42</td>\n",
       "    </tr>\n",
       "    <tr>\n",
       "      <th>703998</th>\n",
       "      <td>703.998</td>\n",
       "      <td>-23.9</td>\n",
       "      <td>0.4</td>\n",
       "      <td>0.0</td>\n",
       "      <td>NaN</td>\n",
       "      <td>0</td>\n",
       "      <td>4.96</td>\n",
       "      <td>70880.33</td>\n",
       "      <td>26.921373</td>\n",
       "      <td>-80.306010</td>\n",
       "      <td>...</td>\n",
       "      <td>9.633</td>\n",
       "      <td>10.026</td>\n",
       "      <td>0.001</td>\n",
       "      <td>0.001</td>\n",
       "      <td>0.002</td>\n",
       "      <td>0.003</td>\n",
       "      <td>10.40</td>\n",
       "      <td>9.81</td>\n",
       "      <td>8.83</td>\n",
       "      <td>9.52</td>\n",
       "    </tr>\n",
       "    <tr>\n",
       "      <th>703999</th>\n",
       "      <td>703.999</td>\n",
       "      <td>-24.0</td>\n",
       "      <td>0.4</td>\n",
       "      <td>0.0</td>\n",
       "      <td>NaN</td>\n",
       "      <td>0</td>\n",
       "      <td>4.96</td>\n",
       "      <td>70880.33</td>\n",
       "      <td>26.921373</td>\n",
       "      <td>-80.306010</td>\n",
       "      <td>...</td>\n",
       "      <td>9.614</td>\n",
       "      <td>10.045</td>\n",
       "      <td>0.001</td>\n",
       "      <td>0.001</td>\n",
       "      <td>0.002</td>\n",
       "      <td>0.003</td>\n",
       "      <td>10.20</td>\n",
       "      <td>9.61</td>\n",
       "      <td>8.83</td>\n",
       "      <td>9.61</td>\n",
       "    </tr>\n",
       "  </tbody>\n",
       "</table>\n",
       "<p>704000 rows × 56 columns</p>\n",
       "</div>"
      ],
      "text/plain": [
       "           time  handwheelAngle  throttle  brake  clutch  engineSpeed   PPS  \\\n",
       "0         0.000           -48.3       0.4    4.0     NaN            0  4.96   \n",
       "1         0.001           -48.2       0.4    4.0     NaN            0  4.94   \n",
       "2         0.002           -48.2       0.4    4.0     NaN            0  4.95   \n",
       "3         0.003           -48.3       0.4    4.0     NaN            0  4.96   \n",
       "4         0.004           -48.3       0.4    4.0     NaN            0  4.96   \n",
       "...         ...             ...       ...    ...     ...          ...   ...   \n",
       "703995  703.995           -23.9       0.4    0.0     NaN            0  4.96   \n",
       "703996  703.996           -23.9       0.3    0.0     NaN            0  4.96   \n",
       "703997  703.997           -23.9       0.3    0.0     NaN            0  4.96   \n",
       "703998  703.998           -23.9       0.4    0.0     NaN            0  4.96   \n",
       "703999  703.999           -24.0       0.4    0.0     NaN            0  4.96   \n",
       "\n",
       "         gpsTime   latitude  longitude  ...  chassisAccelRL  chassisAccelRR  \\\n",
       "0       70176.30  26.921366 -80.306009  ...           9.594          11.576   \n",
       "1       70176.30  26.921366 -80.306009  ...           9.633          11.605   \n",
       "2       70176.30  26.921366 -80.306009  ...           9.614          11.556   \n",
       "3       70176.30  26.921366 -80.306009  ...           9.614          11.576   \n",
       "4       70176.30  26.921366 -80.306009  ...           9.614          11.576   \n",
       "...          ...        ...        ...  ...             ...             ...   \n",
       "703995  70880.33  26.921373 -80.306010  ...           9.594          10.065   \n",
       "703996  70880.33  26.921373 -80.306010  ...           9.614          10.065   \n",
       "703997  70880.33  26.921373 -80.306010  ...           9.614          10.045   \n",
       "703998  70880.33  26.921373 -80.306010  ...           9.633          10.026   \n",
       "703999  70880.33  26.921373 -80.306010  ...           9.614          10.045   \n",
       "\n",
       "        deflectionFL  deflectionFR  deflectionRL  deflectionRR  wheelAccelFL  \\\n",
       "0             -0.002        -0.004         0.002         0.001         10.01   \n",
       "1             -0.002        -0.004         0.002         0.001         10.20   \n",
       "2             -0.002        -0.004         0.002         0.001         10.40   \n",
       "3             -0.002        -0.004         0.002         0.001         10.30   \n",
       "4             -0.002        -0.004         0.002         0.001         10.10   \n",
       "...              ...           ...           ...           ...           ...   \n",
       "703995         0.001         0.001         0.002         0.003         10.40   \n",
       "703996         0.001         0.001         0.002         0.003         10.20   \n",
       "703997         0.001         0.001         0.002         0.003         10.20   \n",
       "703998         0.001         0.001         0.002         0.003         10.40   \n",
       "703999         0.001         0.001         0.002         0.003         10.20   \n",
       "\n",
       "        wheelAccelFR  wheelAccelRL  wheelAccelRR  \n",
       "0               9.81          8.93         13.44  \n",
       "1               9.81          8.83         13.44  \n",
       "2               9.91          9.03         13.44  \n",
       "3               9.81          9.22         13.54  \n",
       "4               9.81          9.12         13.64  \n",
       "...              ...           ...           ...  \n",
       "703995          9.81          9.22          9.81  \n",
       "703996          9.81          9.12          9.61  \n",
       "703997          9.91          9.03          9.42  \n",
       "703998          9.81          8.83          9.52  \n",
       "703999          9.61          8.83          9.61  \n",
       "\n",
       "[704000 rows x 56 columns]"
      ]
     },
     "execution_count": 15,
     "metadata": {},
     "output_type": "execute_result"
    }
   ],
   "source": [
    "import pandas as pd\n",
    "df = pd.read_csv('20140221_03_03_03_250lm.csv')\n",
    "df"
   ]
  },
  {
   "cell_type": "code",
   "execution_count": 2,
   "metadata": {},
   "outputs": [
    {
     "data": {
      "text/html": [
       "<div>\n",
       "<style scoped>\n",
       "    .dataframe tbody tr th:only-of-type {\n",
       "        vertical-align: middle;\n",
       "    }\n",
       "\n",
       "    .dataframe tbody tr th {\n",
       "        vertical-align: top;\n",
       "    }\n",
       "\n",
       "    .dataframe thead th {\n",
       "        text-align: right;\n",
       "    }\n",
       "</style>\n",
       "<table border=\"1\" class=\"dataframe\">\n",
       "  <thead>\n",
       "    <tr style=\"text-align: right;\">\n",
       "      <th></th>\n",
       "      <th>time</th>\n",
       "      <th>handwheelAngle</th>\n",
       "      <th>throttle</th>\n",
       "      <th>brake</th>\n",
       "      <th>clutch</th>\n",
       "      <th>engineSpeed</th>\n",
       "      <th>PPS</th>\n",
       "      <th>gpsTime</th>\n",
       "      <th>latitude</th>\n",
       "      <th>longitude</th>\n",
       "      <th>...</th>\n",
       "      <th>chassisAccelRL</th>\n",
       "      <th>chassisAccelRR</th>\n",
       "      <th>deflectionFL</th>\n",
       "      <th>deflectionFR</th>\n",
       "      <th>deflectionRL</th>\n",
       "      <th>deflectionRR</th>\n",
       "      <th>wheelAccelFL</th>\n",
       "      <th>wheelAccelFR</th>\n",
       "      <th>wheelAccelRL</th>\n",
       "      <th>wheelAccelRR</th>\n",
       "    </tr>\n",
       "  </thead>\n",
       "  <tbody>\n",
       "    <tr>\n",
       "      <th>0</th>\n",
       "      <td>0.000</td>\n",
       "      <td>-48.3</td>\n",
       "      <td>0.4</td>\n",
       "      <td>4.0</td>\n",
       "      <td>NaN</td>\n",
       "      <td>0</td>\n",
       "      <td>4.96</td>\n",
       "      <td>70176.3</td>\n",
       "      <td>26.921366</td>\n",
       "      <td>-80.306009</td>\n",
       "      <td>...</td>\n",
       "      <td>9.594</td>\n",
       "      <td>11.576</td>\n",
       "      <td>-0.002</td>\n",
       "      <td>-0.004</td>\n",
       "      <td>0.002</td>\n",
       "      <td>0.001</td>\n",
       "      <td>10.01</td>\n",
       "      <td>9.81</td>\n",
       "      <td>8.93</td>\n",
       "      <td>13.44</td>\n",
       "    </tr>\n",
       "    <tr>\n",
       "      <th>1</th>\n",
       "      <td>0.001</td>\n",
       "      <td>-48.2</td>\n",
       "      <td>0.4</td>\n",
       "      <td>4.0</td>\n",
       "      <td>NaN</td>\n",
       "      <td>0</td>\n",
       "      <td>4.94</td>\n",
       "      <td>70176.3</td>\n",
       "      <td>26.921366</td>\n",
       "      <td>-80.306009</td>\n",
       "      <td>...</td>\n",
       "      <td>9.633</td>\n",
       "      <td>11.605</td>\n",
       "      <td>-0.002</td>\n",
       "      <td>-0.004</td>\n",
       "      <td>0.002</td>\n",
       "      <td>0.001</td>\n",
       "      <td>10.20</td>\n",
       "      <td>9.81</td>\n",
       "      <td>8.83</td>\n",
       "      <td>13.44</td>\n",
       "    </tr>\n",
       "    <tr>\n",
       "      <th>2</th>\n",
       "      <td>0.002</td>\n",
       "      <td>-48.2</td>\n",
       "      <td>0.4</td>\n",
       "      <td>4.0</td>\n",
       "      <td>NaN</td>\n",
       "      <td>0</td>\n",
       "      <td>4.95</td>\n",
       "      <td>70176.3</td>\n",
       "      <td>26.921366</td>\n",
       "      <td>-80.306009</td>\n",
       "      <td>...</td>\n",
       "      <td>9.614</td>\n",
       "      <td>11.556</td>\n",
       "      <td>-0.002</td>\n",
       "      <td>-0.004</td>\n",
       "      <td>0.002</td>\n",
       "      <td>0.001</td>\n",
       "      <td>10.40</td>\n",
       "      <td>9.91</td>\n",
       "      <td>9.03</td>\n",
       "      <td>13.44</td>\n",
       "    </tr>\n",
       "    <tr>\n",
       "      <th>3</th>\n",
       "      <td>0.003</td>\n",
       "      <td>-48.3</td>\n",
       "      <td>0.4</td>\n",
       "      <td>4.0</td>\n",
       "      <td>NaN</td>\n",
       "      <td>0</td>\n",
       "      <td>4.96</td>\n",
       "      <td>70176.3</td>\n",
       "      <td>26.921366</td>\n",
       "      <td>-80.306009</td>\n",
       "      <td>...</td>\n",
       "      <td>9.614</td>\n",
       "      <td>11.576</td>\n",
       "      <td>-0.002</td>\n",
       "      <td>-0.004</td>\n",
       "      <td>0.002</td>\n",
       "      <td>0.001</td>\n",
       "      <td>10.30</td>\n",
       "      <td>9.81</td>\n",
       "      <td>9.22</td>\n",
       "      <td>13.54</td>\n",
       "    </tr>\n",
       "    <tr>\n",
       "      <th>4</th>\n",
       "      <td>0.004</td>\n",
       "      <td>-48.3</td>\n",
       "      <td>0.4</td>\n",
       "      <td>4.0</td>\n",
       "      <td>NaN</td>\n",
       "      <td>0</td>\n",
       "      <td>4.96</td>\n",
       "      <td>70176.3</td>\n",
       "      <td>26.921366</td>\n",
       "      <td>-80.306009</td>\n",
       "      <td>...</td>\n",
       "      <td>9.614</td>\n",
       "      <td>11.576</td>\n",
       "      <td>-0.002</td>\n",
       "      <td>-0.004</td>\n",
       "      <td>0.002</td>\n",
       "      <td>0.001</td>\n",
       "      <td>10.10</td>\n",
       "      <td>9.81</td>\n",
       "      <td>9.12</td>\n",
       "      <td>13.64</td>\n",
       "    </tr>\n",
       "  </tbody>\n",
       "</table>\n",
       "<p>5 rows × 56 columns</p>\n",
       "</div>"
      ],
      "text/plain": [
       "    time  handwheelAngle  throttle  brake  clutch  engineSpeed   PPS  gpsTime  \\\n",
       "0  0.000           -48.3       0.4    4.0     NaN            0  4.96  70176.3   \n",
       "1  0.001           -48.2       0.4    4.0     NaN            0  4.94  70176.3   \n",
       "2  0.002           -48.2       0.4    4.0     NaN            0  4.95  70176.3   \n",
       "3  0.003           -48.3       0.4    4.0     NaN            0  4.96  70176.3   \n",
       "4  0.004           -48.3       0.4    4.0     NaN            0  4.96  70176.3   \n",
       "\n",
       "    latitude  longitude  ...  chassisAccelRL  chassisAccelRR  deflectionFL  \\\n",
       "0  26.921366 -80.306009  ...           9.594          11.576        -0.002   \n",
       "1  26.921366 -80.306009  ...           9.633          11.605        -0.002   \n",
       "2  26.921366 -80.306009  ...           9.614          11.556        -0.002   \n",
       "3  26.921366 -80.306009  ...           9.614          11.576        -0.002   \n",
       "4  26.921366 -80.306009  ...           9.614          11.576        -0.002   \n",
       "\n",
       "   deflectionFR  deflectionRL  deflectionRR  wheelAccelFL  wheelAccelFR  \\\n",
       "0        -0.004         0.002         0.001         10.01          9.81   \n",
       "1        -0.004         0.002         0.001         10.20          9.81   \n",
       "2        -0.004         0.002         0.001         10.40          9.91   \n",
       "3        -0.004         0.002         0.001         10.30          9.81   \n",
       "4        -0.004         0.002         0.001         10.10          9.81   \n",
       "\n",
       "   wheelAccelRL  wheelAccelRR  \n",
       "0          8.93         13.44  \n",
       "1          8.83         13.44  \n",
       "2          9.03         13.44  \n",
       "3          9.22         13.54  \n",
       "4          9.12         13.64  \n",
       "\n",
       "[5 rows x 56 columns]"
      ]
     },
     "execution_count": 2,
     "metadata": {},
     "output_type": "execute_result"
    }
   ],
   "source": [
    "df.head()"
   ]
  },
  {
   "cell_type": "code",
   "execution_count": 3,
   "metadata": {},
   "outputs": [
    {
     "name": "stdout",
     "output_type": "stream",
     "text": [
      "<class 'pandas.core.frame.DataFrame'>\n",
      "RangeIndex: 704000 entries, 0 to 703999\n",
      "Data columns (total 56 columns):\n",
      " #   Column                  Non-Null Count   Dtype  \n",
      "---  ------                  --------------   -----  \n",
      " 0   time                    704000 non-null  float64\n",
      " 1   handwheelAngle          704000 non-null  float64\n",
      " 2   throttle                704000 non-null  float64\n",
      " 3   brake                   704000 non-null  float64\n",
      " 4   clutch                  0 non-null       float64\n",
      " 5   engineSpeed             704000 non-null  int64  \n",
      " 6   PPS                     704000 non-null  float64\n",
      " 7   gpsTime                 704000 non-null  float64\n",
      " 8   latitude                704000 non-null  float64\n",
      " 9   longitude               704000 non-null  float64\n",
      " 10  altitude                704000 non-null  float64\n",
      " 11  vNorth                  704000 non-null  float64\n",
      " 12  vEast                   704000 non-null  float64\n",
      " 13  vUp                     704000 non-null  float64\n",
      " 14  horizontalSpeed         704000 non-null  float64\n",
      " 15  vxCG                    704000 non-null  float64\n",
      " 16  vyCG                    704000 non-null  float64\n",
      " 17  vzCG                    704000 non-null  float64\n",
      " 18  axCG                    704000 non-null  float64\n",
      " 19  ayCG                    704000 non-null  float64\n",
      " 20  azCG                    704000 non-null  float64\n",
      " 21  yawAngle                704000 non-null  float64\n",
      " 22  pitchAngle              704000 non-null  float64\n",
      " 23  rollAngle               704000 non-null  float64\n",
      " 24  rollRate                704000 non-null  float64\n",
      " 25  pitchRate               704000 non-null  float64\n",
      " 26  yawRate                 704000 non-null  float64\n",
      " 27  sideSlip                704000 non-null  float64\n",
      " 28  distance                704000 non-null  float64\n",
      " 29  numSVsTracked           704000 non-null  int64  \n",
      " 30  gpsPosMode              704000 non-null  int64  \n",
      " 31  gpsVelMode              704000 non-null  int64  \n",
      " 32  gpsOrientMode           704000 non-null  int64  \n",
      " 33  HDOP                    704000 non-null  float64\n",
      " 34  PDOP                    704000 non-null  float64\n",
      " 35  posAccuracy_north       704000 non-null  float64\n",
      " 36  posAccuracy_east        704000 non-null  float64\n",
      " 37  posAccuracy_down        704000 non-null  float64\n",
      " 38  velAccuracy_north       704000 non-null  float64\n",
      " 39  velAccuracy_east        704000 non-null  float64\n",
      " 40  velAccuracy_down        704000 non-null  float64\n",
      " 41  orientAccuracy_heading  704000 non-null  float64\n",
      " 42  orientAccuracy_pitch    704000 non-null  float64\n",
      " 43  orientAccuracy_roll     704000 non-null  float64\n",
      " 44  chassisAccelFL          704000 non-null  float64\n",
      " 45  chassisAccelFR          704000 non-null  float64\n",
      " 46  chassisAccelRL          704000 non-null  float64\n",
      " 47  chassisAccelRR          704000 non-null  float64\n",
      " 48  deflectionFL            704000 non-null  float64\n",
      " 49  deflectionFR            704000 non-null  float64\n",
      " 50  deflectionRL            704000 non-null  float64\n",
      " 51  deflectionRR            704000 non-null  float64\n",
      " 52  wheelAccelFL            704000 non-null  float64\n",
      " 53  wheelAccelFR            704000 non-null  float64\n",
      " 54  wheelAccelRL            704000 non-null  float64\n",
      " 55  wheelAccelRR            704000 non-null  float64\n",
      "dtypes: float64(51), int64(5)\n",
      "memory usage: 300.8 MB\n"
     ]
    }
   ],
   "source": [
    "df.info()"
   ]
  },
  {
   "cell_type": "markdown",
   "metadata": {},
   "source": [
    "### Usando o resultado do dataframe \"20140221_03_03_03_250lm.csv\", vamos achar um valor aproximado do tempo que o carro chega nas coordenadas do começo da pista(o gráfico foi usado para conferir):\n",
    "Resultado no arquivo \"laps(arquivo4).xlsx\"."
   ]
  },
  {
   "cell_type": "code",
   "execution_count": 4,
   "metadata": {},
   "outputs": [],
   "source": [
    "tabel = df.loc[(df['longitude']>-80.306000) & (df['longitude']<-80.30590) & (df['latitude']>26.923680) & (df['latitude']<26.923690) , ['time','distance']]\n",
    "#tabel.to_excel('laps(arquivo4).xlsx',index=False)"
   ]
  },
  {
   "cell_type": "markdown",
   "metadata": {},
   "source": [
    "## Conferindo formato da pista:"
   ]
  },
  {
   "cell_type": "code",
   "execution_count": 5,
   "metadata": {},
   "outputs": [
    {
     "data": {
      "image/png": "[encoded data removed]",
      "text/plain": [
       "<Figure size 432x288 with 1 Axes>"
      ]
     },
     "metadata": {
      "needs_background": "light"
     },
     "output_type": "display_data"
    }
   ],
   "source": [
    "import matplotlib.pyplot as plt\n",
    "\n",
    "plt.scatter(x = df['latitude'], y = df['longitude'],alpha=.55, s=1,color='black')\n",
    "for x in range(0,200,20):\n",
    "    plt.scatter(x=df.loc[df['time']==x,'latitude'],y=df.loc[df['time']==x,'longitude'], color=\"yellow\")\n",
    "\n",
    "plt.scatter(x=df.loc[df['time']==147.86,'latitude'],y=df.loc[df['time']==147.86,'longitude'], color=\"red\")\n",
    "plt.scatter(x=df.loc[df['time']==253.80,'latitude'],y=df.loc[df['time']==253.80,'longitude'], color=\"blue\")\n",
    "plt.scatter(x=df.loc[df['time']==450.91,'latitude'],y=df.loc[df['time']==450.91,'longitude'], color=\"green\")\n",
    "\n",
    "plt.show()"
   ]
  },
  {
   "cell_type": "markdown",
   "metadata": {},
   "source": [
    "## Relação time(segundos) x latitude(metros) e time(segundos) x longitude(metros):\n",
    "Percebe-se que, quantidade de voltas = repetições do gráfico - 1"
   ]
  },
  {
   "cell_type": "code",
   "execution_count": 6,
   "metadata": {},
   "outputs": [
    {
     "data": {
      "image/png": "[encoded data removed]",
      "text/plain": [
       "<Figure size 432x288 with 1 Axes>"
      ]
     },
     "metadata": {
      "needs_background": "light"
     },
     "output_type": "display_data"
    }
   ],
   "source": [
    "import seaborn as sns\n",
    "\n",
    "sns.lineplot(x=df['time'],y=df['latitude'])\n",
    "plt.show()"
   ]
  },
  {
   "cell_type": "code",
   "execution_count": 7,
   "metadata": {},
   "outputs": [
    {
     "data": {
      "image/png": "[encoded data removed]",
      "text/plain": [
       "<Figure size 432x288 with 1 Axes>"
      ]
     },
     "metadata": {
      "needs_background": "light"
     },
     "output_type": "display_data"
    }
   ],
   "source": [
    "sns.lineplot(x=df['time'],y=df['longitude'])\n",
    "plt.show()"
   ]
  },
  {
   "cell_type": "markdown",
   "metadata": {},
   "source": [
    "## Calculando o comprimento da pista usando os tempos do arquivo \"laps(arquivo3).xlsx\", em metros(m):\n",
    "Observa-se que o resultado é aproximadamente igual aos valores obtidos nos outros arquivos."
   ]
  },
  {
   "cell_type": "code",
   "execution_count": 8,
   "metadata": {},
   "outputs": [
    {
     "data": {
      "text/plain": [
       "3127.46"
      ]
     },
     "metadata": {},
     "output_type": "display_data"
    },
    {
     "data": {
      "text/plain": [
       "3114.5989999999997"
      ]
     },
     "metadata": {},
     "output_type": "display_data"
    },
    {
     "data": {
      "text/plain": [
       "3107.465"
      ]
     },
     "metadata": {},
     "output_type": "display_data"
    },
    {
     "name": "stdout",
     "output_type": "stream",
     "text": [
      "O comprimento da pista é: 3116.51 metros\n"
     ]
    }
   ],
   "source": [
    "distance1 = df.loc[df.time==253.80,'distance'].item()-df.loc[df.time==147.86,'distance'].item()\n",
    "distance2 = df.loc[df.time==353.04,'distance'].item()-df.loc[df.time==253.80,'distance'].item()\n",
    "distance3 = df.loc[df.time==450.91,'distance'].item()-df.loc[df.time==353.04,'distance'].item()\n",
    "\n",
    "display(distance1)\n",
    "display(distance2)\n",
    "display(distance3)\n",
    "distance = (distance1+distance2+distance3)/3\n",
    "print('O comprimento da pista é:','%.2f' % distance,'metros')"
   ]
  },
  {
   "cell_type": "markdown",
   "metadata": {},
   "source": [
    "## Tempo aproximado para cada volta, baseado na tabela \"laps(arquivo3).xlsx\", em segundos(s):"
   ]
  },
  {
   "cell_type": "code",
   "execution_count": 9,
   "metadata": {},
   "outputs": [
    {
     "name": "stdout",
     "output_type": "stream",
     "text": [
      "Primeira volta: 105.94 s\n",
      "Segunda volta: 99.24 s\n",
      "Terceira volta: 97.87 s\n"
     ]
    }
   ],
   "source": [
    "first_lap = 253.80 - 147.86\n",
    "second_lap = 353.04 - 253.80\n",
    "third_lap = 450.91 - 353.04\n",
    "\n",
    "print('Primeira volta:','%.2f' % first_lap, 's')\n",
    "print('Segunda volta:','%.2f' % second_lap, 's')\n",
    "print('Terceira volta:','%.2f' % third_lap, 's')"
   ]
  },
  {
   "cell_type": "code",
   "execution_count": 16,
   "metadata": {},
   "outputs": [
    {
     "data": {
      "text/plain": [
       "<matplotlib.collections.PathCollection at 0x20cd257ee00>"
      ]
     },
     "execution_count": 16,
     "metadata": {},
     "output_type": "execute_result"
    },
    {
     "data": {
      "image/png": "[encoded data removed]",
      "text/plain": [
       "<Figure size 432x288 with 1 Axes>"
      ]
     },
     "metadata": {
      "needs_background": "light"
     },
     "output_type": "display_data"
    }
   ],
   "source": [
    "plt.scatter(x = df['latitude'], y = df['longitude'],alpha=.55, s=1,color='black')\n",
    "plt.scatter(x = df.loc[(df['time']>147.86)&(df['time']<=253.80),'latitude'], y = df.loc[(df['time']>147.86)&(df['time']<=253.80),'longitude'],alpha=.55, s=1,color='blue')\n",
    "#plt.scatter(x=df.loc[(df['brake']>16)&(df['brake']<=18)&(df['time']>250.40)&(df['time']<=361.35),'latitude'],y=df.loc[(df['brake']>16)&(df['brake']<=18)&(df['time']>250.40)&(df['time']<=361.35),'longitude'],color='red',s=5)\n",
    "plt.scatter(x=df.loc[(df['brake']>0)&(df['time']>147.86)&(df['time']<=253.80),'latitude'],y=df.loc[(df['brake']>0)&(df['time']>147.86)&(df['time']<=253.80),'longitude'],color='red',s=5)"
   ]
  },
  {
   "cell_type": "code",
   "execution_count": 18,
   "metadata": {},
   "outputs": [
    {
     "data": {
      "text/plain": [
       "<matplotlib.collections.PathCollection at 0x20ccb594460>"
      ]
     },
     "execution_count": 18,
     "metadata": {},
     "output_type": "execute_result"
    },
    {
     "data": {
      "image/png": "[encoded data removed]",
      "text/plain": [
       "<Figure size 432x288 with 1 Axes>"
      ]
     },
     "metadata": {
      "needs_background": "light"
     },
     "output_type": "display_data"
    }
   ],
   "source": [
    "plt.scatter(x = df['latitude'], y = df['longitude'],alpha=.55, s=1,color='black')\n",
    "plt.scatter(x = df.loc[(df['time']>353.04)&(df['time']<=450.91),'latitude'], y = df.loc[(df['time']>353.04)&(df['time']<=450.91),'longitude'],alpha=.55, s=1,color='green')\n",
    "#plt.scatter(x=df.loc[(df['brake']>16)&(df['brake']<=18)&(df['time']>250.40)&(df['time']<=361.35),'latitude'],y=df.loc[(df['brake']>16)&(df['brake']<=18)&(df['time']>250.40)&(df['time']<=361.35),'longitude'],color='red',s=5)\n",
    "plt.scatter(x=df.loc[(df['brake']>0)&(df['time']>353.04)&(df['time']<=450.91),'latitude'],y=df.loc[(df['brake']>0)&(df['time']>353.04)&(df['time']<=450.91),'longitude'],color='red',s=5)"
   ]
  },
  {
   "cell_type": "code",
   "execution_count": 29,
   "metadata": {},
   "outputs": [
    {
     "data": {
      "text/plain": [
       "296"
      ]
     },
     "execution_count": 29,
     "metadata": {},
     "output_type": "execute_result"
    }
   ],
   "source": [
    "df.loc[(df.brake>0)&(df['time']>353.04)&(df['time']<=450.91),'brake'].count()"
   ]
  },
  {
   "cell_type": "code",
   "execution_count": 30,
   "metadata": {},
   "outputs": [
    {
     "data": {
      "text/plain": [
       "24028"
      ]
     },
     "execution_count": 30,
     "metadata": {},
     "output_type": "execute_result"
    }
   ],
   "source": [
    "df.loc[(df.brake>0)&(df['time']>147.86)&(df['time']<=253.80),'brake'].count()"
   ]
  },
  {
   "cell_type": "code",
   "execution_count": 37,
   "metadata": {},
   "outputs": [
    {
     "data": {
      "text/plain": [
       "105940"
      ]
     },
     "execution_count": 37,
     "metadata": {},
     "output_type": "execute_result"
    }
   ],
   "source": [
    "df.loc[(df['time']>147.86)&(df['time']<=253.80),'brake'].count()"
   ]
  },
  {
   "cell_type": "code",
   "execution_count": 31,
   "metadata": {},
   "outputs": [
    {
     "data": {
      "text/plain": [
       "7413"
      ]
     },
     "execution_count": 31,
     "metadata": {},
     "output_type": "execute_result"
    }
   ],
   "source": [
    "df.loc[(df.brake>0)&(df['time']>253.80)&(df['time']<=353.04),'brake'].count()"
   ]
  },
  {
   "cell_type": "code",
   "execution_count": 39,
   "metadata": {},
   "outputs": [
    {
     "data": {
      "text/plain": [
       "0"
      ]
     },
     "execution_count": 39,
     "metadata": {},
     "output_type": "execute_result"
    }
   ],
   "source": [
    "df.brake.isnull().sum()"
   ]
  },
  {
   "cell_type": "code",
   "execution_count": 33,
   "metadata": {},
   "outputs": [
    {
     "data": {
      "text/plain": [
       "99240"
      ]
     },
     "execution_count": 33,
     "metadata": {},
     "output_type": "execute_result"
    }
   ],
   "source": [
    "df.loc[(df['time']>253.80)&(df['time']<=353.04),'brake'].isna().count()"
   ]
  },
  {
   "cell_type": "code",
   "execution_count": 20,
   "metadata": {},
   "outputs": [
    {
     "data": {
      "text/plain": [
       "<matplotlib.collections.PathCollection at 0x20ccb5df070>"
      ]
     },
     "execution_count": 20,
     "metadata": {},
     "output_type": "execute_result"
    },
    {
     "data": {
      "image/png": "[encoded data removed]",
      "text/plain": [
       "<Figure size 432x288 with 1 Axes>"
      ]
     },
     "metadata": {
      "needs_background": "light"
     },
     "output_type": "display_data"
    }
   ],
   "source": [
    "plt.scatter(x = df['latitude'], y = df['longitude'],alpha=.55, s=1,color='black')\n",
    "plt.scatter(x = df.loc[(df['time']>253.80)&(df['time']<=353.04),'latitude'], y = df.loc[(df['time']>253.80)&(df['time']<=353.04),'longitude'],alpha=.55, s=1,color='green')\n",
    "#plt.scatter(x=df.loc[(df['brake']>16)&(df['brake']<=18)&(df['time']>250.40)&(df['time']<=361.35),'latitude'],y=df.loc[(df['brake']>16)&(df['brake']<=18)&(df['time']>250.40)&(df['time']<=361.35),'longitude'],color='red',s=5)\n",
    "plt.scatter(x=df.loc[(df['brake']>0)&(df['time']>253.80)&(df['time']<=353.04),'latitude'],y=df.loc[(df['brake']>0)&(df['time']>253.80)&(df['time']<=353.04),'longitude'],color='red',s=5)"
   ]
  },
  {
   "cell_type": "markdown",
   "metadata": {},
   "source": [
    "## Calculando a velocidade média usando a coluna horizontalSpeed, em metros por segundo(m/s):\n",
    "Para isso, iremos tratar a tabela primeiro para remover tanto os intervalos nos quais o carro estava parado, quanto a volta que o piloto deu para retornar a posição inicial. Para o cálculo da velocidade média, iremos usar as 3 voltas dadas pelo piloto."
   ]
  },
  {
   "cell_type": "code",
   "execution_count": 10,
   "metadata": {},
   "outputs": [
    {
     "data": {
      "text/html": [
       "<div>\n",
       "<style scoped>\n",
       "    .dataframe tbody tr th:only-of-type {\n",
       "        vertical-align: middle;\n",
       "    }\n",
       "\n",
       "    .dataframe tbody tr th {\n",
       "        vertical-align: top;\n",
       "    }\n",
       "\n",
       "    .dataframe thead th {\n",
       "        text-align: right;\n",
       "    }\n",
       "</style>\n",
       "<table border=\"1\" class=\"dataframe\">\n",
       "  <thead>\n",
       "    <tr style=\"text-align: right;\">\n",
       "      <th></th>\n",
       "      <th>time</th>\n",
       "      <th>handwheelAngle</th>\n",
       "      <th>throttle</th>\n",
       "      <th>brake</th>\n",
       "      <th>clutch</th>\n",
       "      <th>engineSpeed</th>\n",
       "      <th>PPS</th>\n",
       "      <th>gpsTime</th>\n",
       "      <th>latitude</th>\n",
       "      <th>longitude</th>\n",
       "      <th>...</th>\n",
       "      <th>ayCG</th>\n",
       "      <th>azCG</th>\n",
       "      <th>yawAngle</th>\n",
       "      <th>pitchAngle</th>\n",
       "      <th>rollAngle</th>\n",
       "      <th>rollRate</th>\n",
       "      <th>pitchRate</th>\n",
       "      <th>yawRate</th>\n",
       "      <th>sideSlip</th>\n",
       "      <th>distance</th>\n",
       "    </tr>\n",
       "  </thead>\n",
       "  <tbody>\n",
       "    <tr>\n",
       "      <th>0</th>\n",
       "      <td>253.80</td>\n",
       "      <td>-40.7</td>\n",
       "      <td>35.1</td>\n",
       "      <td>0.0</td>\n",
       "      <td>NaN</td>\n",
       "      <td>4314</td>\n",
       "      <td>4.96</td>\n",
       "      <td>70430.12</td>\n",
       "      <td>26.923684</td>\n",
       "      <td>-80.305961</td>\n",
       "      <td>...</td>\n",
       "      <td>-7.44</td>\n",
       "      <td>8.03</td>\n",
       "      <td>-30.77</td>\n",
       "      <td>-0.60</td>\n",
       "      <td>-2.13</td>\n",
       "      <td>-0.35</td>\n",
       "      <td>1.41</td>\n",
       "      <td>-14.34</td>\n",
       "      <td>2.06</td>\n",
       "      <td>3401.899</td>\n",
       "    </tr>\n",
       "    <tr>\n",
       "      <th>1</th>\n",
       "      <td>253.81</td>\n",
       "      <td>-40.8</td>\n",
       "      <td>35.4</td>\n",
       "      <td>0.0</td>\n",
       "      <td>NaN</td>\n",
       "      <td>4314</td>\n",
       "      <td>4.96</td>\n",
       "      <td>70430.13</td>\n",
       "      <td>26.923686</td>\n",
       "      <td>-80.305960</td>\n",
       "      <td>...</td>\n",
       "      <td>-7.44</td>\n",
       "      <td>8.03</td>\n",
       "      <td>-30.92</td>\n",
       "      <td>-0.59</td>\n",
       "      <td>-2.13</td>\n",
       "      <td>-0.35</td>\n",
       "      <td>1.41</td>\n",
       "      <td>-14.34</td>\n",
       "      <td>2.03</td>\n",
       "      <td>3402.138</td>\n",
       "    </tr>\n",
       "    <tr>\n",
       "      <th>2</th>\n",
       "      <td>253.82</td>\n",
       "      <td>-40.7</td>\n",
       "      <td>35.5</td>\n",
       "      <td>0.0</td>\n",
       "      <td>NaN</td>\n",
       "      <td>4314</td>\n",
       "      <td>4.96</td>\n",
       "      <td>70430.14</td>\n",
       "      <td>26.923688</td>\n",
       "      <td>-80.305959</td>\n",
       "      <td>...</td>\n",
       "      <td>-6.83</td>\n",
       "      <td>12.62</td>\n",
       "      <td>-31.07</td>\n",
       "      <td>-0.59</td>\n",
       "      <td>-2.17</td>\n",
       "      <td>-2.98</td>\n",
       "      <td>1.05</td>\n",
       "      <td>-14.59</td>\n",
       "      <td>2.01</td>\n",
       "      <td>3402.377</td>\n",
       "    </tr>\n",
       "    <tr>\n",
       "      <th>3</th>\n",
       "      <td>253.83</td>\n",
       "      <td>-40.4</td>\n",
       "      <td>35.7</td>\n",
       "      <td>0.0</td>\n",
       "      <td>NaN</td>\n",
       "      <td>4320</td>\n",
       "      <td>4.96</td>\n",
       "      <td>70430.15</td>\n",
       "      <td>26.923690</td>\n",
       "      <td>-80.305957</td>\n",
       "      <td>...</td>\n",
       "      <td>-6.83</td>\n",
       "      <td>12.62</td>\n",
       "      <td>-31.22</td>\n",
       "      <td>-0.58</td>\n",
       "      <td>-2.20</td>\n",
       "      <td>-2.98</td>\n",
       "      <td>1.05</td>\n",
       "      <td>-14.59</td>\n",
       "      <td>2.00</td>\n",
       "      <td>3402.617</td>\n",
       "    </tr>\n",
       "    <tr>\n",
       "      <th>4</th>\n",
       "      <td>253.84</td>\n",
       "      <td>-40.0</td>\n",
       "      <td>36.2</td>\n",
       "      <td>0.0</td>\n",
       "      <td>NaN</td>\n",
       "      <td>4320</td>\n",
       "      <td>4.96</td>\n",
       "      <td>70430.16</td>\n",
       "      <td>26.923690</td>\n",
       "      <td>-80.305958</td>\n",
       "      <td>...</td>\n",
       "      <td>-7.43</td>\n",
       "      <td>8.20</td>\n",
       "      <td>-31.28</td>\n",
       "      <td>-0.60</td>\n",
       "      <td>-2.17</td>\n",
       "      <td>-1.59</td>\n",
       "      <td>0.06</td>\n",
       "      <td>-15.00</td>\n",
       "      <td>2.03</td>\n",
       "      <td>3402.859</td>\n",
       "    </tr>\n",
       "    <tr>\n",
       "      <th>...</th>\n",
       "      <td>...</td>\n",
       "      <td>...</td>\n",
       "      <td>...</td>\n",
       "      <td>...</td>\n",
       "      <td>...</td>\n",
       "      <td>...</td>\n",
       "      <td>...</td>\n",
       "      <td>...</td>\n",
       "      <td>...</td>\n",
       "      <td>...</td>\n",
       "      <td>...</td>\n",
       "      <td>...</td>\n",
       "      <td>...</td>\n",
       "      <td>...</td>\n",
       "      <td>...</td>\n",
       "      <td>...</td>\n",
       "      <td>...</td>\n",
       "      <td>...</td>\n",
       "      <td>...</td>\n",
       "      <td>...</td>\n",
       "      <td>...</td>\n",
       "    </tr>\n",
       "    <tr>\n",
       "      <th>19009</th>\n",
       "      <td>450.87</td>\n",
       "      <td>-18.1</td>\n",
       "      <td>41.2</td>\n",
       "      <td>0.0</td>\n",
       "      <td>NaN</td>\n",
       "      <td>4308</td>\n",
       "      <td>4.94</td>\n",
       "      <td>70627.20</td>\n",
       "      <td>26.923675</td>\n",
       "      <td>-80.305972</td>\n",
       "      <td>...</td>\n",
       "      <td>-5.99</td>\n",
       "      <td>9.66</td>\n",
       "      <td>-27.47</td>\n",
       "      <td>-0.72</td>\n",
       "      <td>-1.50</td>\n",
       "      <td>-1.19</td>\n",
       "      <td>0.98</td>\n",
       "      <td>-11.96</td>\n",
       "      <td>2.13</td>\n",
       "      <td>9623.002</td>\n",
       "    </tr>\n",
       "    <tr>\n",
       "      <th>19010</th>\n",
       "      <td>450.88</td>\n",
       "      <td>-18.5</td>\n",
       "      <td>41.2</td>\n",
       "      <td>0.0</td>\n",
       "      <td>NaN</td>\n",
       "      <td>4308</td>\n",
       "      <td>4.96</td>\n",
       "      <td>70627.21</td>\n",
       "      <td>26.923676</td>\n",
       "      <td>-80.305971</td>\n",
       "      <td>...</td>\n",
       "      <td>-7.34</td>\n",
       "      <td>9.45</td>\n",
       "      <td>-27.57</td>\n",
       "      <td>-0.70</td>\n",
       "      <td>-1.53</td>\n",
       "      <td>-2.10</td>\n",
       "      <td>1.43</td>\n",
       "      <td>-11.34</td>\n",
       "      <td>2.06</td>\n",
       "      <td>9623.240</td>\n",
       "    </tr>\n",
       "    <tr>\n",
       "      <th>19011</th>\n",
       "      <td>450.89</td>\n",
       "      <td>-18.7</td>\n",
       "      <td>41.2</td>\n",
       "      <td>0.0</td>\n",
       "      <td>NaN</td>\n",
       "      <td>4308</td>\n",
       "      <td>4.96</td>\n",
       "      <td>70627.22</td>\n",
       "      <td>26.923679</td>\n",
       "      <td>-80.305970</td>\n",
       "      <td>...</td>\n",
       "      <td>-7.34</td>\n",
       "      <td>9.45</td>\n",
       "      <td>-27.68</td>\n",
       "      <td>-0.69</td>\n",
       "      <td>-1.55</td>\n",
       "      <td>-3.55</td>\n",
       "      <td>0.75</td>\n",
       "      <td>-10.64</td>\n",
       "      <td>1.98</td>\n",
       "      <td>9623.483</td>\n",
       "    </tr>\n",
       "    <tr>\n",
       "      <th>19012</th>\n",
       "      <td>450.90</td>\n",
       "      <td>-18.9</td>\n",
       "      <td>41.3</td>\n",
       "      <td>0.0</td>\n",
       "      <td>NaN</td>\n",
       "      <td>4320</td>\n",
       "      <td>4.96</td>\n",
       "      <td>70627.23</td>\n",
       "      <td>26.923680</td>\n",
       "      <td>-80.305969</td>\n",
       "      <td>...</td>\n",
       "      <td>-5.98</td>\n",
       "      <td>10.30</td>\n",
       "      <td>-27.76</td>\n",
       "      <td>-0.68</td>\n",
       "      <td>-1.59</td>\n",
       "      <td>-2.59</td>\n",
       "      <td>1.97</td>\n",
       "      <td>-10.63</td>\n",
       "      <td>1.95</td>\n",
       "      <td>9623.716</td>\n",
       "    </tr>\n",
       "    <tr>\n",
       "      <th>19013</th>\n",
       "      <td>450.91</td>\n",
       "      <td>-19.0</td>\n",
       "      <td>41.7</td>\n",
       "      <td>0.0</td>\n",
       "      <td>NaN</td>\n",
       "      <td>4320</td>\n",
       "      <td>4.96</td>\n",
       "      <td>70627.24</td>\n",
       "      <td>26.923682</td>\n",
       "      <td>-80.305968</td>\n",
       "      <td>...</td>\n",
       "      <td>-6.26</td>\n",
       "      <td>8.94</td>\n",
       "      <td>-27.86</td>\n",
       "      <td>-0.69</td>\n",
       "      <td>-1.61</td>\n",
       "      <td>-1.89</td>\n",
       "      <td>0.74</td>\n",
       "      <td>-10.25</td>\n",
       "      <td>1.91</td>\n",
       "      <td>9623.963</td>\n",
       "    </tr>\n",
       "  </tbody>\n",
       "</table>\n",
       "<p>19014 rows × 29 columns</p>\n",
       "</div>"
      ],
      "text/plain": [
       "         time  handwheelAngle  throttle  brake  clutch  engineSpeed   PPS  \\\n",
       "0      253.80           -40.7      35.1    0.0     NaN         4314  4.96   \n",
       "1      253.81           -40.8      35.4    0.0     NaN         4314  4.96   \n",
       "2      253.82           -40.7      35.5    0.0     NaN         4314  4.96   \n",
       "3      253.83           -40.4      35.7    0.0     NaN         4320  4.96   \n",
       "4      253.84           -40.0      36.2    0.0     NaN         4320  4.96   \n",
       "...       ...             ...       ...    ...     ...          ...   ...   \n",
       "19009  450.87           -18.1      41.2    0.0     NaN         4308  4.94   \n",
       "19010  450.88           -18.5      41.2    0.0     NaN         4308  4.96   \n",
       "19011  450.89           -18.7      41.2    0.0     NaN         4308  4.96   \n",
       "19012  450.90           -18.9      41.3    0.0     NaN         4320  4.96   \n",
       "19013  450.91           -19.0      41.7    0.0     NaN         4320  4.96   \n",
       "\n",
       "        gpsTime   latitude  longitude  ...  ayCG   azCG  yawAngle  pitchAngle  \\\n",
       "0      70430.12  26.923684 -80.305961  ... -7.44   8.03    -30.77       -0.60   \n",
       "1      70430.13  26.923686 -80.305960  ... -7.44   8.03    -30.92       -0.59   \n",
       "2      70430.14  26.923688 -80.305959  ... -6.83  12.62    -31.07       -0.59   \n",
       "3      70430.15  26.923690 -80.305957  ... -6.83  12.62    -31.22       -0.58   \n",
       "4      70430.16  26.923690 -80.305958  ... -7.43   8.20    -31.28       -0.60   \n",
       "...         ...        ...        ...  ...   ...    ...       ...         ...   \n",
       "19009  70627.20  26.923675 -80.305972  ... -5.99   9.66    -27.47       -0.72   \n",
       "19010  70627.21  26.923676 -80.305971  ... -7.34   9.45    -27.57       -0.70   \n",
       "19011  70627.22  26.923679 -80.305970  ... -7.34   9.45    -27.68       -0.69   \n",
       "19012  70627.23  26.923680 -80.305969  ... -5.98  10.30    -27.76       -0.68   \n",
       "19013  70627.24  26.923682 -80.305968  ... -6.26   8.94    -27.86       -0.69   \n",
       "\n",
       "       rollAngle  rollRate  pitchRate  yawRate  sideSlip  distance  \n",
       "0          -2.13     -0.35       1.41   -14.34      2.06  3401.899  \n",
       "1          -2.13     -0.35       1.41   -14.34      2.03  3402.138  \n",
       "2          -2.17     -2.98       1.05   -14.59      2.01  3402.377  \n",
       "3          -2.20     -2.98       1.05   -14.59      2.00  3402.617  \n",
       "4          -2.17     -1.59       0.06   -15.00      2.03  3402.859  \n",
       "...          ...       ...        ...      ...       ...       ...  \n",
       "19009      -1.50     -1.19       0.98   -11.96      2.13  9623.002  \n",
       "19010      -1.53     -2.10       1.43   -11.34      2.06  9623.240  \n",
       "19011      -1.55     -3.55       0.75   -10.64      1.98  9623.483  \n",
       "19012      -1.59     -2.59       1.97   -10.63      1.95  9623.716  \n",
       "19013      -1.61     -1.89       0.74   -10.25      1.91  9623.963  \n",
       "\n",
       "[19014 rows x 29 columns]"
      ]
     },
     "execution_count": 10,
     "metadata": {},
     "output_type": "execute_result"
    }
   ],
   "source": [
    "#df = df.dropna()\n",
    "df = df.drop_duplicates(['latitude','longitude'])\n",
    "df = df.drop(df.loc[:, 'numSVsTracked':'wheelAccelRR'],axis=1)\n",
    "df = df.drop(df[df.time<253.80].index,axis=0)\n",
    "df = df.drop(df[df.time>450.91].index,axis=0)\n",
    "df = df.reset_index(drop=True)\n",
    "df"
   ]
  },
  {
   "cell_type": "markdown",
   "metadata": {},
   "source": [
    "#### Verificando se a velocidade está com o tipo correto:"
   ]
  },
  {
   "cell_type": "code",
   "execution_count": 11,
   "metadata": {},
   "outputs": [
    {
     "name": "stdout",
     "output_type": "stream",
     "text": [
      "<class 'pandas.core.series.Series'>\n",
      "RangeIndex: 19014 entries, 0 to 19013\n",
      "Series name: horizontalSpeed\n",
      "Non-Null Count  Dtype  \n",
      "--------------  -----  \n",
      "19014 non-null  float64\n",
      "dtypes: float64(1)\n",
      "memory usage: 148.7 KB\n"
     ]
    }
   ],
   "source": [
    "df.horizontalSpeed.info()"
   ]
  },
  {
   "cell_type": "code",
   "execution_count": 12,
   "metadata": {},
   "outputs": [
    {
     "name": "stdout",
     "output_type": "stream",
     "text": [
      "A velocidade média da primeira volta foi de: 29.52 m/s\n",
      "A velocidade máxima da primeira volta foi de: nan m/s\n",
      "\n",
      "\n",
      "A velocidade média da segunda volta foi de: 31.38 m/s\n",
      "A velocidade máxima da segunda volta foi de: 57.67 m/s\n",
      "\n",
      "\n",
      "A velocidade média da terceira volta foi de: 31.75 m/s\n",
      "A velocidade máxima da terceira volta foi de: 55.36 m/s\n"
     ]
    }
   ],
   "source": [
    "first_lap_AverageV = distance1/first_lap\n",
    "first_lap_maxV = df.loc[(df.time>147.86) & (df.time<253.80),'horizontalSpeed'].max()\n",
    "\n",
    "second_lap_AverageV = distance2/second_lap\n",
    "second_lap_maxV = df.loc[(df.time>253.80) & (df.time<353.04),'horizontalSpeed'].max()\n",
    "\n",
    "third_lap_AverageV = distance3/third_lap\n",
    "third_lap_maxV = df.loc[(df.time>353.04) & (df.time<450.91),'horizontalSpeed'].max()\n",
    "\n",
    "print('A velocidade média da primeira volta foi de:','%.2f' % first_lap_AverageV,'m/s')\n",
    "print('A velocidade máxima da primeira volta foi de:','%.2f' % first_lap_maxV,'m/s')\n",
    "print('\\n')\n",
    "print('A velocidade média da segunda volta foi de:','%.2f' % second_lap_AverageV,'m/s')\n",
    "print('A velocidade máxima da segunda volta foi de:','%.2f' % second_lap_maxV,'m/s')\n",
    "print('\\n')\n",
    "print('A velocidade média da terceira volta foi de:','%.2f' % third_lap_AverageV,'m/s')\n",
    "print('A velocidade máxima da terceira volta foi de:','%.2f' % third_lap_maxV,'m/s')\n"
   ]
  }
 ],
 "metadata": {
  "kernelspec": {
   "display_name": "Python 3.10.5 64-bit",
   "language": "python",
   "name": "python3"
  },
  "language_info": {
   "codemirror_mode": {
    "name": "ipython",
    "version": 3
   },
   "file_extension": ".py",
   "mimetype": "text/x-python",
   "name": "python",
   "nbconvert_exporter": "python",
   "pygments_lexer": "ipython3",
   "version": "3.10.5"
  },
  "orig_nbformat": 4,
  "vscode": {
   "interpreter": {
    "hash": "5cc180ea234c1957e762c75879edea730e969e3dc080311f0f61b17f8515bf04"
   }
  }
 },
 "nbformat": 4,
 "nbformat_minor": 2
}
